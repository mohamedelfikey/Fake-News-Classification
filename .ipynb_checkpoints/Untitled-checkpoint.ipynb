{
 "cells": [
  {
   "cell_type": "markdown",
   "id": "81bfcb1a-45c2-48e3-bc46-a0a92907edd3",
   "metadata": {},
   "source": [
    "# Fake News Classification"
   ]
  },
  {
   "cell_type": "markdown",
   "id": "4efaae85-251b-4727-99bd-7199005eaa91",
   "metadata": {},
   "source": [
    "* Using BOW\n",
    "\n",
    "* Using Embedding :\n",
    "\n",
    "                    1- End to End task\n",
    "                    2- Using gensim Word2Vec\n",
    "                    3- Glove            \n",
    "\n",
    "* Using RNN :\n",
    "\n",
    "                    1- Simple RNN\n",
    "                    2- LSTM\n",
    "                      "
   ]
  },
  {
   "cell_type": "markdown",
   "id": "9a89dbf9-4106-48c9-8302-976b35ac742e",
   "metadata": {},
   "source": [
    "__Dataset contains two columns: Title (about the text news heading); and Label (0 = fake and 1 = real).__"
   ]
  },
  {
   "cell_type": "markdown",
   "id": "eafae3d7-eb59-4d77-8e00-762b33c959ed",
   "metadata": {},
   "source": [
    "## Part one: Import Libraries & Read Data"
   ]
  },
  {
   "cell_type": "code",
   "execution_count": 1,
   "id": "bbd455d5-45d3-4bf1-af78-975c4c5104b8",
   "metadata": {},
   "outputs": [
    {
     "name": "stderr",
     "output_type": "stream",
     "text": [
      "[nltk_data] Downloading package punkt to\n",
      "[nltk_data]     C:\\Users\\ELFEKY\\AppData\\Roaming\\nltk_data...\n",
      "[nltk_data]   Package punkt is already up-to-date!\n",
      "[nltk_data] Downloading package punkt_tab to\n",
      "[nltk_data]     C:\\Users\\ELFEKY\\AppData\\Roaming\\nltk_data...\n",
      "[nltk_data]   Package punkt_tab is already up-to-date!\n",
      "[nltk_data] Downloading package stopwords to\n",
      "[nltk_data]     C:\\Users\\ELFEKY\\AppData\\Roaming\\nltk_data...\n",
      "[nltk_data]   Package stopwords is already up-to-date!\n",
      "[nltk_data] Downloading package wordnet to\n",
      "[nltk_data]     C:\\Users\\ELFEKY\\AppData\\Roaming\\nltk_data...\n",
      "[nltk_data]   Package wordnet is already up-to-date!\n",
      "[nltk_data] Downloading package omw-1.4 to\n",
      "[nltk_data]     C:\\Users\\ELFEKY\\AppData\\Roaming\\nltk_data...\n",
      "[nltk_data]   Package omw-1.4 is already up-to-date!\n"
     ]
    }
   ],
   "source": [
    "from tensorflow.keras.preprocessing.text import Tokenizer\n",
    "from keras.preprocessing.sequence import pad_sequences\n",
    "from tensorflow.keras.layers import Dense,Dropout,Embedding,Flatten,BatchNormalization,SimpleRNN,LSTM,SpatialDropout1D\n",
    "from tensorflow.keras.models import Sequential\n",
    "from tensorflow.keras.regularizers import l2\n",
    "from tensorflow.keras.callbacks import EarlyStopping\n",
    "from tensorflow.keras.utils import to_categorical\n",
    "from tensorflow.keras.preprocessing.text import Tokenizer\n",
    "\n",
    "\n",
    "from sklearn.model_selection import train_test_split\n",
    "from sklearn.metrics import confusion_matrix, accuracy_score, classification_report\n",
    "\n",
    "\n",
    "from gensim.models import Word2Vec\n",
    "\n",
    "\n",
    "import numpy as np\n",
    "import pandas as pd \n",
    "import matplotlib.pyplot as plt\n",
    "import seaborn as sns\n",
    "\n",
    "\n",
    "from imblearn.over_sampling import SMOTE  # Install via `pip install imbalanced-learn`\n",
    "\n",
    "\n",
    "import re\n",
    "import unicodedata\n",
    "import string\n",
    "\n",
    "\n",
    "import nltk\n",
    "nltk.download('punkt')\n",
    "nltk.download('punkt_tab')\n",
    "from nltk.tokenize import sent_tokenize\n",
    "from nltk.tokenize import word_tokenize\n",
    "nltk.download('stopwords')\n",
    "from nltk.corpus import stopwords\n",
    "stop_words=stopwords.words('english')\n",
    "from nltk.stem import PorterStemmer\n",
    "from nltk.stem import WordNetLemmatizer\n",
    "nltk.download('wordnet')\n",
    "nltk.download('omw-1.4')\n",
    "\n",
    "\n",
    "import warnings\n",
    "warnings.filterwarnings(\"ignore\")"
   ]
  },
  {
   "cell_type": "code",
   "execution_count": 2,
   "id": "d5d03702-a77a-49cf-83c0-5d37c57b0394",
   "metadata": {},
   "outputs": [],
   "source": [
    "# Hyper-parameter\n",
    "vocab_sz=10000\n",
    "max_length=50\n",
    "n_latent_factors = 50\n",
    "\n",
    "\n"
   ]
  },
  {
   "cell_type": "code",
   "execution_count": 3,
   "id": "9f4a82fb-0c38-477e-a97d-43173cddf416",
   "metadata": {},
   "outputs": [
    {
     "data": {
      "text/html": [
       "<div>\n",
       "<style scoped>\n",
       "    .dataframe tbody tr th:only-of-type {\n",
       "        vertical-align: middle;\n",
       "    }\n",
       "\n",
       "    .dataframe tbody tr th {\n",
       "        vertical-align: top;\n",
       "    }\n",
       "\n",
       "    .dataframe thead th {\n",
       "        text-align: right;\n",
       "    }\n",
       "</style>\n",
       "<table border=\"1\" class=\"dataframe\">\n",
       "  <thead>\n",
       "    <tr style=\"text-align: right;\">\n",
       "      <th></th>\n",
       "      <th>title</th>\n",
       "      <th>label</th>\n",
       "    </tr>\n",
       "  </thead>\n",
       "  <tbody>\n",
       "    <tr>\n",
       "      <th>0</th>\n",
       "      <td>LAW ENFORCEMENT ON HIGH ALERT Following Threat...</td>\n",
       "      <td>1</td>\n",
       "    </tr>\n",
       "    <tr>\n",
       "      <th>1</th>\n",
       "      <td>NaN</td>\n",
       "      <td>1</td>\n",
       "    </tr>\n",
       "    <tr>\n",
       "      <th>2</th>\n",
       "      <td>UNBELIEVABLE! OBAMA’S ATTORNEY GENERAL SAYS MO...</td>\n",
       "      <td>1</td>\n",
       "    </tr>\n",
       "    <tr>\n",
       "      <th>3</th>\n",
       "      <td>Bobby Jindal, raised Hindu, uses story of Chri...</td>\n",
       "      <td>0</td>\n",
       "    </tr>\n",
       "    <tr>\n",
       "      <th>4</th>\n",
       "      <td>SATAN 2: Russia unvelis an image of its terrif...</td>\n",
       "      <td>1</td>\n",
       "    </tr>\n",
       "  </tbody>\n",
       "</table>\n",
       "</div>"
      ],
      "text/plain": [
       "                                               title  label\n",
       "0  LAW ENFORCEMENT ON HIGH ALERT Following Threat...      1\n",
       "1                                                NaN      1\n",
       "2  UNBELIEVABLE! OBAMA’S ATTORNEY GENERAL SAYS MO...      1\n",
       "3  Bobby Jindal, raised Hindu, uses story of Chri...      0\n",
       "4  SATAN 2: Russia unvelis an image of its terrif...      1"
      ]
     },
     "execution_count": 3,
     "metadata": {},
     "output_type": "execute_result"
    }
   ],
   "source": [
    "data = pd.read_csv(\"news.csv\")\n",
    "df = data.copy()\n",
    "df.head()"
   ]
  },
  {
   "cell_type": "code",
   "execution_count": 4,
   "id": "91f6c86e-9c64-42df-9f24-d6582b56e2b6",
   "metadata": {},
   "outputs": [
    {
     "name": "stdout",
     "output_type": "stream",
     "text": [
      "<class 'pandas.core.frame.DataFrame'>\n",
      "RangeIndex: 72134 entries, 0 to 72133\n",
      "Data columns (total 2 columns):\n",
      " #   Column  Non-Null Count  Dtype \n",
      "---  ------  --------------  ----- \n",
      " 0   title   71576 non-null  object\n",
      " 1   label   72134 non-null  int64 \n",
      "dtypes: int64(1), object(1)\n",
      "memory usage: 1.1+ MB\n"
     ]
    }
   ],
   "source": [
    "df.info()"
   ]
  },
  {
   "cell_type": "code",
   "execution_count": 5,
   "id": "330ac9f0-3949-411d-af3b-c4954f27a0b3",
   "metadata": {},
   "outputs": [
    {
     "data": {
      "text/plain": [
       "(72134, 2)"
      ]
     },
     "execution_count": 5,
     "metadata": {},
     "output_type": "execute_result"
    }
   ],
   "source": [
    "df.shape"
   ]
  },
  {
   "cell_type": "code",
   "execution_count": 6,
   "id": "2f942038-1c9f-4da6-86a5-e433020937d4",
   "metadata": {},
   "outputs": [
    {
     "data": {
      "text/plain": [
       "Index(['title', 'label'], dtype='object')"
      ]
     },
     "execution_count": 6,
     "metadata": {},
     "output_type": "execute_result"
    }
   ],
   "source": [
    "df.columns"
   ]
  },
  {
   "cell_type": "code",
   "execution_count": 7,
   "id": "ab19086b-59b1-412a-ac3a-205e1e481e2f",
   "metadata": {},
   "outputs": [
    {
     "data": {
      "text/plain": [
       "title    558\n",
       "label      0\n",
       "dtype: int64"
      ]
     },
     "execution_count": 7,
     "metadata": {},
     "output_type": "execute_result"
    }
   ],
   "source": [
    "df.isna().sum()"
   ]
  },
  {
   "cell_type": "markdown",
   "id": "e0832603-3b99-4ed9-88f5-b092630399da",
   "metadata": {},
   "source": [
    "__There are null values__"
   ]
  },
  {
   "cell_type": "code",
   "execution_count": 8,
   "id": "b383e372-e7b5-40d9-8f51-b68c0167f95e",
   "metadata": {},
   "outputs": [],
   "source": [
    "# drop null values\n",
    "df.dropna(inplace=True)"
   ]
  },
  {
   "cell_type": "code",
   "execution_count": 9,
   "id": "5b522472-e91e-451a-b649-6ebf92c5d0c6",
   "metadata": {},
   "outputs": [
    {
     "data": {
      "text/plain": [
       "9225"
      ]
     },
     "execution_count": 9,
     "metadata": {},
     "output_type": "execute_result"
    }
   ],
   "source": [
    "df.duplicated().sum()"
   ]
  },
  {
   "cell_type": "markdown",
   "id": "bb836fdb-17a0-46aa-83db-89d85ff1da8d",
   "metadata": {},
   "source": [
    "__There are duplicated values__"
   ]
  },
  {
   "cell_type": "code",
   "execution_count": 10,
   "id": "20ebd7d9-6890-4ef8-94cc-72b362e86cc7",
   "metadata": {},
   "outputs": [],
   "source": [
    "# drop null values\n",
    "df.drop_duplicates(inplace=True)"
   ]
  },
  {
   "cell_type": "code",
   "execution_count": 11,
   "id": "971543bd-dcd3-4774-829a-1c65f210f23a",
   "metadata": {},
   "outputs": [
    {
     "data": {
      "image/png": "[encoded data removed]",
      "text/plain": [
       "<Figure size 640x480 with 1 Axes>"
      ]
     },
     "metadata": {},
     "output_type": "display_data"
    }
   ],
   "source": [
    "sns.countplot(x='label' , data =df)\n",
    "plt.title('Count Plot of labels')\n",
    "plt.xlabel('labels')\n",
    "plt.ylabel('Count')\n",
    "plt.show()"
   ]
  },
  {
   "cell_type": "markdown",
   "id": "afcb7537-a441-4505-b2a0-e9ed3293fdb0",
   "metadata": {},
   "source": [
    "## Part two: Data Preprocessing"
   ]
  },
  {
   "cell_type": "code",
   "execution_count": 12,
   "id": "429b2ff2-adf7-40b7-8abe-57b033c5dbc3",
   "metadata": {},
   "outputs": [
    {
     "name": "stdout",
     "output_type": "stream",
     "text": [
      "(43645,)\n",
      "(43645,)\n",
      "(18706,)\n",
      "(18706,)\n"
     ]
    }
   ],
   "source": [
    "x_train,x_test,y_train,y_test = train_test_split(df.title , df.label , test_size=0.3, random_state=42)\n",
    "\n",
    "print (x_train.shape)\n",
    "print (y_train.shape)\n",
    "print (x_test.shape)\n",
    "print (y_test.shape)"
   ]
  },
  {
   "cell_type": "code",
   "execution_count": 13,
   "id": "6083d79d-a192-4e70-8a5f-982c8e523046",
   "metadata": {},
   "outputs": [],
   "source": [
    "def remove_non_ascii(text):\n",
    "    \"\"\"Remove non-ASCII characters from list of tokenized words\"\"\"\n",
    "    return unicodedata.normalize('NFKD', text).encode('ascii', 'ignore').decode('utf-8', 'ignore')\n",
    "\n",
    "\n",
    "def remove_punctuation(text):\n",
    "    \"\"\"Remove punctuation from list of tokenized words\"\"\"\n",
    "    translator = str.maketrans('', '', string.punctuation)\n",
    "    return text.translate(translator)\n",
    "\n",
    "\n",
    "def to_lowercase(text):\n",
    "    return text.lower()\n",
    "\n",
    "\n",
    "def replace_numbers(text):\n",
    "    \"\"\"Replace all interger occurrences in list of tokenized words with textual representation\"\"\"\n",
    "    return re.sub(r'\\d+', '', text)\n",
    "\n",
    "def remove_whitespaces(text):\n",
    "    return text.strip()\n",
    "\n",
    "\n",
    "def remove_stopwords(words, stop_words):\n",
    "    \"\"\"\n",
    "    :param words:\n",
    "    :type words:\n",
    "    :param stop_words: from sklearn.feature_extraction.stop_words import ENGLISH_STOP_WORDS\n",
    "    or\n",
    "    from spacy.lang.en.stop_words import STOP_WORDS\n",
    "    :type stop_words:\n",
    "    :return:\n",
    "    :rtype:\n",
    "    \"\"\"\n",
    "    return [word for word in words if word not in stop_words]\n",
    "\n",
    "\n",
    "def stem_words(words):\n",
    "    \"\"\"Stem words in text\"\"\"\n",
    "    stemmer = PorterStemmer()\n",
    "    return [stemmer.stem(word) for word in words]\n",
    "\n",
    "def lemmatize_words(words):\n",
    "    \"\"\"Lemmatize words in text\"\"\"\n",
    "\n",
    "    lemmatizer = WordNetLemmatizer()\n",
    "    return [lemmatizer.lemmatize(word) for word in words]\n",
    "\n",
    "def lemmatize_verbs(words):\n",
    "    \"\"\"Lemmatize verbs in text\"\"\"\n",
    "\n",
    "    lemmatizer = WordNetLemmatizer()\n",
    "    return ' '.join([lemmatizer.lemmatize(word, pos='v') for word in words])\n",
    "\n",
    "def text2words(text):\n",
    "  text=sent_tokenize(text)\n",
    "  return word_tokenize(\"\".join(text))"
   ]
  },
  {
   "cell_type": "code",
   "execution_count": 14,
   "id": "5470374d-b1fe-4340-bf48-44c7a5b9ba30",
   "metadata": {},
   "outputs": [],
   "source": [
    "def normalize_text( text):\n",
    "    text = remove_non_ascii(text)\n",
    "    text = remove_punctuation(text)\n",
    "    text = to_lowercase(text)\n",
    "    text = replace_numbers(text)\n",
    "    words = text2words(text)\n",
    "    words = remove_stopwords(words, stop_words)\n",
    "    #words = stem_words(words)# Either stem ovocar lemmatize\n",
    "\n",
    "    #lemmatization is good in BOW\n",
    "    words = lemmatize_words(words)\n",
    "    words = lemmatize_verbs(words)\n",
    "\n",
    "    return ''.join(words)"
   ]
  },
  {
   "cell_type": "code",
   "execution_count": 15,
   "id": "b701bb16-1240-429d-a389-811c6eaff01a",
   "metadata": {},
   "outputs": [
    {
     "data": {
      "text/plain": [
       "'law enforcement high alert follow threat cop white blacklivesmatter fyf terrorist video'"
      ]
     },
     "execution_count": 15,
     "metadata": {},
     "output_type": "execute_result"
    }
   ],
   "source": [
    "normalize_text(x_train[0])"
   ]
  },
  {
   "cell_type": "code",
   "execution_count": 16,
   "id": "9fb7f79a-e076-4257-971b-9ccbeeb62692",
   "metadata": {},
   "outputs": [],
   "source": [
    "def normalize_corpus (corpus):\n",
    "  return [normalize_text(s) for s in corpus]\n",
    "\n",
    "\n",
    "trn_texts=normalize_corpus(x_train)\n",
    "tst_texts=normalize_corpus(x_test)"
   ]
  },
  {
   "cell_type": "code",
   "execution_count": 17,
   "id": "abcef5b6-2520-469e-b016-187531e3b1df",
   "metadata": {},
   "outputs": [
    {
     "data": {
      "text/plain": [
       "'kenyan police say four people kill opposition demonstration past two week'"
      ]
     },
     "execution_count": 17,
     "metadata": {},
     "output_type": "execute_result"
    }
   ],
   "source": [
    "trn_texts[0]"
   ]
  },
  {
   "cell_type": "markdown",
   "id": "4b449a07-9d49-4e09-8d9f-5287b8c1c808",
   "metadata": {},
   "source": [
    "### Text Preparation & Build Vocab"
   ]
  },
  {
   "cell_type": "code",
   "execution_count": 18,
   "id": "1f732343-1737-4cab-a7c1-ce2e06149361",
   "metadata": {},
   "outputs": [
    {
     "data": {
      "text/plain": [
       "61848"
      ]
     },
     "execution_count": 18,
     "metadata": {},
     "output_type": "execute_result"
    }
   ],
   "source": [
    "texts = trn_texts + tst_texts\n",
    "\n",
    "words = [word.strip(string.punctuation) for word in texts]\n",
    "uni_words = set (words)\n",
    "len (uni_words)"
   ]
  },
  {
   "cell_type": "code",
   "execution_count": 19,
   "id": "e6d6049d-5d35-49e4-ab5f-900e73c05888",
   "metadata": {},
   "outputs": [
    {
     "data": {
      "text/plain": [
       "{'UNK': 1,\n",
       " 'trump': 2,\n",
       " 'new': 3,\n",
       " 'time': 4,\n",
       " 'video': 5,\n",
       " 'york': 6,\n",
       " 'u': 7,\n",
       " 'say': 8,\n",
       " 'clinton': 9,\n",
       " 'hillary': 10,\n",
       " 'obama': 11,\n",
       " 'breitbart': 12,\n",
       " 'house': 13,\n",
       " 'republican': 14,\n",
       " 'donald': 15,\n",
       " 'watch': 16,\n",
       " 'white': 17,\n",
       " 'get': 18,\n",
       " 'state': 19,\n",
       " 'president': 20,\n",
       " 'russia': 21,\n",
       " 'call': 22,\n",
       " 'election': 23,\n",
       " 'vote': 24,\n",
       " 'bill': 25,\n",
       " 'make': 26,\n",
       " 'attack': 27,\n",
       " 'news': 28,\n",
       " 'go': 29,\n",
       " 'plan': 30,\n",
       " 'court': 31,\n",
       " 'gop': 32,\n",
       " 'break': 33,\n",
       " 'democrat': 34,\n",
       " 'kill': 35,\n",
       " 'campaign': 36,\n",
       " 'north': 37,\n",
       " 'take': 38,\n",
       " 'tweet': 39,\n",
       " 'senate': 40,\n",
       " 'police': 41,\n",
       " 'black': 42,\n",
       " 'medium': 43,\n",
       " 'american': 44,\n",
       " 'america': 45,\n",
       " 'show': 46,\n",
       " 'korea': 47,\n",
       " 'deal': 48,\n",
       " 'want': 49,\n",
       " 'back': 50,\n",
       " 'tell': 51,\n",
       " 'war': 52,\n",
       " 'leader': 53,\n",
       " 'meet': 54,\n",
       " 'china': 55,\n",
       " 'may': 56,\n",
       " 'tax': 57,\n",
       " 'woman': 58,\n",
       " 'report': 59,\n",
       " 'fbi': 60,\n",
       " 'russian': 61,\n",
       " 'one': 62,\n",
       " 'talk': 63,\n",
       " 'official': 64,\n",
       " 'muslim': 65,\n",
       " 'win': 66,\n",
       " 'give': 67,\n",
       " 'email': 68,\n",
       " 'party': 69,\n",
       " 'right': 70,\n",
       " 'year': 71,\n",
       " 'syria': 72,\n",
       " 'iran': 73,\n",
       " 'day': 74,\n",
       " 'first': 75,\n",
       " 'rule': 76,\n",
       " 'people': 77,\n",
       " 'ban': 78,\n",
       " 'un': 79,\n",
       " 'government': 80,\n",
       " 'law': 81,\n",
       " 'senator': 82,\n",
       " 'see': 83,\n",
       " 'shoot': 84,\n",
       " 'obamas': 85,\n",
       " 'could': 86,\n",
       " 'supporter': 87,\n",
       " 'world': 88,\n",
       " 'top': 89,\n",
       " 'eu': 90,\n",
       " 'million': 91,\n",
       " 'find': 92,\n",
       " 'voter': 93,\n",
       " 'fire': 94,\n",
       " 'man': 95,\n",
       " 'fight': 96,\n",
       " 'force': 97,\n",
       " 'poll': 98,\n",
       " 'ask': 99,\n",
       " 'support': 100,\n",
       " 'chief': 101,\n",
       " 'congress': 102,\n",
       " 'use': 103,\n",
       " 'warn': 104,\n",
       " 'former': 105,\n",
       " 'debate': 106,\n",
       " 'try': 107,\n",
       " 'claim': 108,\n",
       " 'security': 109,\n",
       " 'speech': 110,\n",
       " 'comment': 111,\n",
       " 'putin': 112,\n",
       " 'minister': 113,\n",
       " 'twitter': 114,\n",
       " 'sander': 115,\n",
       " 'lie': 116,\n",
       " 'arrest': 117,\n",
       " 'border': 118,\n",
       " 'end': 119,\n",
       " 'leave': 120,\n",
       " 'order': 121,\n",
       " 'would': 122,\n",
       " 'seek': 123,\n",
       " 'like': 124,\n",
       " 'south': 125,\n",
       " 'gun': 126,\n",
       " 'probe': 127,\n",
       " 'change': 128,\n",
       " 'source': 129,\n",
       " 'help': 130,\n",
       " 'face': 131,\n",
       " 'conservative': 132,\n",
       " 'work': 133,\n",
       " 'presidential': 134,\n",
       " 'fox': 135,\n",
       " 'pm': 136,\n",
       " 'obamacare': 137,\n",
       " 'judge': 138,\n",
       " 'move': 139,\n",
       " 'need': 140,\n",
       " 'protest': 141,\n",
       " 'lawmaker': 142,\n",
       " 'military': 143,\n",
       " 'brexit': 144,\n",
       " 'run': 145,\n",
       " 'refugee': 146,\n",
       " 'life': 147,\n",
       " 'cruz': 148,\n",
       " 'come': 149,\n",
       " 'nuclear': 150,\n",
       " 'foreign': 151,\n",
       " 'lose': 152,\n",
       " 'group': 153,\n",
       " 'fund': 154,\n",
       " 'policy': 155,\n",
       " 'two': 156,\n",
       " 'governor': 157,\n",
       " 'case': 158,\n",
       " 'release': 159,\n",
       " 'fake': 160,\n",
       " 'supreme': 161,\n",
       " 'racist': 162,\n",
       " 'stop': 163,\n",
       " 'open': 164,\n",
       " 'cnn': 165,\n",
       " 'candidate': 166,\n",
       " 'big': 167,\n",
       " 'think': 168,\n",
       " 'saudi': 169,\n",
       " 'know': 170,\n",
       " 'turkey': 171,\n",
       " 'uk': 172,\n",
       " 'race': 173,\n",
       " 'wont': 174,\n",
       " 'school': 175,\n",
       " 'urge': 176,\n",
       " 'rally': 177,\n",
       " 'charge': 178,\n",
       " 'liberal': 179,\n",
       " 'death': 180,\n",
       " 'lead': 181,\n",
       " 'even': 182,\n",
       " 'national': 183,\n",
       " 'political': 184,\n",
       " 'child': 185,\n",
       " 'job': 186,\n",
       " 'pay': 187,\n",
       " 'visit': 188,\n",
       " 'pick': 189,\n",
       " 'destroy': 190,\n",
       " 'way': 191,\n",
       " 'city': 192,\n",
       " 'syrian': 193,\n",
       " 'dont': 194,\n",
       " 'islamic': 195,\n",
       " 'isi': 196,\n",
       " 'student': 197,\n",
       " 'terrorist': 198,\n",
       " 'threaten': 199,\n",
       " 'ryan': 200,\n",
       " 'immigration': 201,\n",
       " 'wall': 202,\n",
       " 'trade': 203,\n",
       " 'head': 204,\n",
       " 'threat': 205,\n",
       " 'look': 206,\n",
       " 'family': 207,\n",
       " 'cut': 208,\n",
       " 'he': 209,\n",
       " 'reveal': 210,\n",
       " 'question': 211,\n",
       " 'paul': 212,\n",
       " 'mexico': 213,\n",
       " 'cop': 214,\n",
       " 'protester': 215,\n",
       " 'bernie': 216,\n",
       " 'host': 217,\n",
       " 'next': 218,\n",
       " 'push': 219,\n",
       " 'keep': 220,\n",
       " 'hack': 221,\n",
       " 'image': 222,\n",
       " 'democratic': 223,\n",
       " 'health': 224,\n",
       " 'climate': 225,\n",
       " 'illegal': 226,\n",
       " 'strike': 227,\n",
       " 'investigation': 228,\n",
       " 'turn': 229,\n",
       " 'sanction': 230,\n",
       " 'hit': 231,\n",
       " 'comey': 232,\n",
       " 'john': 233,\n",
       " 'must': 234,\n",
       " 'hold': 235,\n",
       " 'healthcare': 236,\n",
       " 'press': 237,\n",
       " 'crisis': 238,\n",
       " 'factbox': 239,\n",
       " 'tie': 240,\n",
       " 'dead': 241,\n",
       " 'put': 242,\n",
       " 'set': 243,\n",
       " 'texas': 244,\n",
       " 'german': 245,\n",
       " 'post': 246,\n",
       " 'expose': 247,\n",
       " 'ted': 248,\n",
       " 'general': 249,\n",
       " 'bomb': 250,\n",
       " 'live': 251,\n",
       " 'budget': 252,\n",
       " 'israel': 253,\n",
       " 'defend': 254,\n",
       " 'still': 255,\n",
       " 'justice': 256,\n",
       " 'detail': 257,\n",
       " 'home': 258,\n",
       " 'thing': 259,\n",
       " 'sign': 260,\n",
       " 'iraq': 261,\n",
       " 'free': 262,\n",
       " 'power': 263,\n",
       " 'issue': 264,\n",
       " 'catch': 265,\n",
       " 'secretary': 266,\n",
       " 'week': 267,\n",
       " 'administration': 268,\n",
       " 'defense': 269,\n",
       " 'brief': 270,\n",
       " 'germany': 271,\n",
       " 'interview': 272,\n",
       " 'travel': 273,\n",
       " 'britain': 274,\n",
       " 'france': 275,\n",
       " 'stand': 276,\n",
       " 'blame': 277,\n",
       " 'block': 278,\n",
       " 'shock': 279,\n",
       " 'last': 280,\n",
       " 'target': 281,\n",
       " 'response': 282,\n",
       " 'start': 283,\n",
       " 'department': 284,\n",
       " 'control': 285,\n",
       " 'money': 286,\n",
       " 'reporter': 287,\n",
       " 'secret': 288,\n",
       " 'california': 289,\n",
       " 'offer': 290,\n",
       " 'here': 291,\n",
       " 'send': 292,\n",
       " 'wikileaks': 293,\n",
       " 'suspect': 294,\n",
       " 'return': 295,\n",
       " 'name': 296,\n",
       " 'air': 297,\n",
       " 'test': 298,\n",
       " 'country': 299,\n",
       " 'office': 300,\n",
       " 'migrant': 301,\n",
       " 'exclusive': 302,\n",
       " 'washington': 303,\n",
       " 'opposition': 304,\n",
       " 'accuse': 305,\n",
       " 'reason': 306,\n",
       " 'drop': 307,\n",
       " 'panel': 308,\n",
       " 'cant': 309,\n",
       " 'nominee': 310,\n",
       " 'reform': 311,\n",
       " 'federal': 312,\n",
       " 'team': 313,\n",
       " 'demand': 314,\n",
       " 'close': 315,\n",
       " 'japan': 316,\n",
       " 'water': 317,\n",
       " 'blast': 318,\n",
       " 'violence': 319,\n",
       " 'another': 320,\n",
       " 'aid': 321,\n",
       " 'review': 322,\n",
       " 'leak': 323,\n",
       " 'fail': 324,\n",
       " 'director': 325,\n",
       " 'agency': 326,\n",
       " 'admit': 327,\n",
       " 'hope': 328,\n",
       " 'speak': 329,\n",
       " 'real': 330,\n",
       " 'near': 331,\n",
       " 'myanmar': 332,\n",
       " 'major': 333,\n",
       " 'really': 334,\n",
       " 'happen': 335,\n",
       " 'act': 336,\n",
       " 'antitrump': 337,\n",
       " 'tv': 338,\n",
       " 'hear': 339,\n",
       " 'old': 340,\n",
       " 'lawyer': 341,\n",
       " 'slam': 342,\n",
       " 'billion': 343,\n",
       " 'ahead': 344,\n",
       " 'become': 345,\n",
       " 'presidency': 346,\n",
       " 'christian': 347,\n",
       " 'terror': 348,\n",
       " 'public': 349,\n",
       " 'never': 350,\n",
       " 'bank': 351,\n",
       " 'refuse': 352,\n",
       " 'missile': 353,\n",
       " 'business': 354,\n",
       " 'aide': 355,\n",
       " 'attorney': 356,\n",
       " 'speaker': 357,\n",
       " 'raise': 358,\n",
       " 'step': 359,\n",
       " 'penny': 360,\n",
       " 'amid': 361,\n",
       " 'hate': 362,\n",
       " 'florida': 363,\n",
       " 'army': 364,\n",
       " 'truth': 365,\n",
       " 'street': 366,\n",
       " 'ad': 367,\n",
       " 'victim': 368,\n",
       " 'tillerson': 369,\n",
       " 'worker': 370,\n",
       " 'murder': 371,\n",
       " 'let': 372,\n",
       " 'fear': 373,\n",
       " 'jail': 374,\n",
       " 'member': 375,\n",
       " 'college': 376,\n",
       " 'great': 377,\n",
       " 'immigrant': 378,\n",
       " 'key': 379,\n",
       " 'girl': 380,\n",
       " 'de': 381,\n",
       " 'latest': 382,\n",
       " 'behind': 383,\n",
       " 'star': 384,\n",
       " 'scandal': 385,\n",
       " 'facebook': 386,\n",
       " 'bid': 387,\n",
       " 'bush': 388,\n",
       " 'high': 389,\n",
       " 'story': 390,\n",
       " 'jerusalem': 391,\n",
       " 'build': 392,\n",
       " 'fraud': 393,\n",
       " 'victory': 394,\n",
       " 'mayor': 395,\n",
       " 'adviser': 396,\n",
       " 'launch': 397,\n",
       " 'record': 398,\n",
       " 'announce': 399,\n",
       " 'session': 400,\n",
       " 'allow': 401,\n",
       " 'hand': 402,\n",
       " 'spend': 403,\n",
       " 'doesnt': 404,\n",
       " 'crime': 405,\n",
       " 'arm': 406,\n",
       " 'agree': 407,\n",
       " 'assault': 408,\n",
       " 'shut': 409,\n",
       " 'action': 410,\n",
       " 'wow': 411,\n",
       " 'message': 412,\n",
       " 'decision': 413,\n",
       " 'ready': 414,\n",
       " 'veteran': 415,\n",
       " 'confirm': 416,\n",
       " 'reject': 417,\n",
       " 'good': 418,\n",
       " 'nation': 419,\n",
       " 'activist': 420,\n",
       " 'bring': 421,\n",
       " 'peace': 422,\n",
       " 'feed': 423,\n",
       " 'vow': 424,\n",
       " 'ever': 425,\n",
       " 'battle': 426,\n",
       " 'play': 427,\n",
       " 'challenge': 428,\n",
       " 'la': 429,\n",
       " 'best': 430,\n",
       " 'social': 431,\n",
       " 'effort': 432,\n",
       " 'part': 433,\n",
       " 'kid': 434,\n",
       " 'concern': 435,\n",
       " 'three': 436,\n",
       " 'rise': 437,\n",
       " 'expect': 438,\n",
       " 'matter': 439,\n",
       " 'coalition': 440,\n",
       " 'sex': 441,\n",
       " 'huge': 442,\n",
       " 'history': 443,\n",
       " 'puerto': 444,\n",
       " 'care': 445,\n",
       " 'korean': 446,\n",
       " 'love': 447,\n",
       " 'legal': 448,\n",
       " 'gay': 449,\n",
       " 'point': 450,\n",
       " 'paris': 451,\n",
       " 'iraqi': 452,\n",
       " 'list': 453,\n",
       " 'unite': 454,\n",
       " 'consider': 455,\n",
       " 'join': 456,\n",
       " 'philippine': 457,\n",
       " 'full': 458,\n",
       " 'bad': 459,\n",
       " 'drug': 460,\n",
       " 'photo': 461,\n",
       " 'merkel': 462,\n",
       " 'george': 463,\n",
       " 'sue': 464,\n",
       " 'french': 465,\n",
       " 'miss': 466,\n",
       " 'global': 467,\n",
       " 'flag': 468,\n",
       " 'officer': 469,\n",
       " 'mock': 470,\n",
       " 'hilarious': 471,\n",
       " 'fan': 472,\n",
       " 'future': 473,\n",
       " 'line': 474,\n",
       " 'ally': 475,\n",
       " 'rico': 476,\n",
       " 'son': 477,\n",
       " 'steal': 478,\n",
       " 'london': 479,\n",
       " 'alien': 480,\n",
       " 'intelligence': 481,\n",
       " 'possible': 482,\n",
       " 'endorse': 483,\n",
       " 'game': 484,\n",
       " 'british': 485,\n",
       " 'despite': 486,\n",
       " 'month': 487,\n",
       " 'promise': 488,\n",
       " 'word': 489,\n",
       " 'repeal': 490,\n",
       " 'executive': 491,\n",
       " 'statement': 492,\n",
       " 'explain': 493,\n",
       " 'spy': 494,\n",
       " 'rep': 495,\n",
       " 'approve': 496,\n",
       " 'resign': 497,\n",
       " 'eye': 498,\n",
       " 'continue': 499,\n",
       " 'bust': 500,\n",
       " 'die': 501,\n",
       " 'likely': 502,\n",
       " 'rubio': 503,\n",
       " 'deny': 504,\n",
       " 'service': 505,\n",
       " 'discus': 506,\n",
       " 'troop': 507,\n",
       " 'car': 508,\n",
       " 'politics': 509,\n",
       " 'away': 510,\n",
       " 'journalist': 511,\n",
       " 'human': 512,\n",
       " 'link': 513,\n",
       " 'save': 514,\n",
       " 'beat': 515,\n",
       " 'company': 516,\n",
       " 'rip': 517,\n",
       " 'catalan': 518,\n",
       " 'throw': 519,\n",
       " 'today': 520,\n",
       " 'prepare': 521,\n",
       " 'protect': 522,\n",
       " 'special': 523,\n",
       " 'begin': 524,\n",
       " 'room': 525,\n",
       " 'mccain': 526,\n",
       " 'market': 527,\n",
       " 'humiliate': 528,\n",
       " 'nato': 529,\n",
       " 'europe': 530,\n",
       " 'parliament': 531,\n",
       " 'internet': 532,\n",
       " 'without': 533,\n",
       " 'night': 534,\n",
       " 'chair': 535,\n",
       " 'wife': 536,\n",
       " 'march': 537,\n",
       " 'dy': 538,\n",
       " 'oil': 539,\n",
       " 'mike': 540,\n",
       " 'pope': 541,\n",
       " 'hollywood': 542,\n",
       " 'leftist': 543,\n",
       " 'macron': 544,\n",
       " 'declare': 545,\n",
       " 'didnt': 546,\n",
       " 'four': 547,\n",
       " 'town': 548,\n",
       " 'kelly': 549,\n",
       " 'appeal': 550,\n",
       " 'second': 551,\n",
       " 'abortion': 552,\n",
       " 'letter': 553,\n",
       " 'evidence': 554,\n",
       " 'rape': 555,\n",
       " 'dnc': 556,\n",
       " 'rohingya': 557,\n",
       " 'inauguration': 558,\n",
       " 'men': 559,\n",
       " 'view': 560,\n",
       " 'final': 561,\n",
       " 'militant': 562,\n",
       " 'pressure': 563,\n",
       " 'sexual': 564,\n",
       " 'bombshell': 565,\n",
       " 'system': 566,\n",
       " 'weapon': 567,\n",
       " 'food': 568,\n",
       " 'sell': 569,\n",
       " 'king': 570,\n",
       " 'turkish': 571,\n",
       " 'cuba': 572,\n",
       " 'chicago': 573,\n",
       " 'independence': 574,\n",
       " 'nfl': 575,\n",
       " 'agent': 576,\n",
       " 'yemen': 577,\n",
       " 'pass': 578,\n",
       " 'program': 579,\n",
       " 'hell': 580,\n",
       " 'economic': 581,\n",
       " 'daily': 582,\n",
       " 'soldier': 583,\n",
       " 'every': 584,\n",
       " 'cia': 585,\n",
       " 'much': 586,\n",
       " 'venezuela': 587,\n",
       " 'trip': 588,\n",
       " 'prison': 589,\n",
       " 'aim': 590,\n",
       " 'fall': 591,\n",
       " 'cause': 592,\n",
       " 'many': 593,\n",
       " 'im': 594,\n",
       " 'yet': 595,\n",
       " 'transgender': 596,\n",
       " 'role': 597,\n",
       " 'zimbabwe': 598,\n",
       " 'chinese': 599,\n",
       " 'foundation': 600,\n",
       " 'stun': 601,\n",
       " 'terrorism': 602,\n",
       " 'economy': 603,\n",
       " 'sean': 604,\n",
       " 'least': 605,\n",
       " 'joe': 606,\n",
       " 'convention': 607,\n",
       " 'civil': 608,\n",
       " 'remove': 609,\n",
       " 'propose': 610,\n",
       " 'canada': 611,\n",
       " 'blow': 612,\n",
       " 'middle': 613,\n",
       " 'young': 614,\n",
       " 'hurricane': 615,\n",
       " 'thousand': 616,\n",
       " 'reach': 617,\n",
       " 'prosecutor': 618,\n",
       " 'corruption': 619,\n",
       " 'problem': 620,\n",
       " 'michael': 621,\n",
       " 'flynn': 622,\n",
       " 'sentence': 623,\n",
       " 'wrong': 624,\n",
       " 'carolina': 625,\n",
       " 'mexican': 626,\n",
       " 'union': 627,\n",
       " 'university': 628,\n",
       " 'attempt': 629,\n",
       " 'dem': 630,\n",
       " 'committee': 631,\n",
       " 'audio': 632,\n",
       " 'ceo': 633,\n",
       " 'answer': 634,\n",
       " 'mark': 635,\n",
       " 'event': 636,\n",
       " 'massive': 637,\n",
       " 'jam': 638,\n",
       " 'believe': 639,\n",
       " 'rig': 640,\n",
       " 'expert': 641,\n",
       " 'crash': 642,\n",
       " 'mean': 643,\n",
       " 'prof': 644,\n",
       " 'cancel': 645,\n",
       " 'east': 646,\n",
       " 'arabia': 647,\n",
       " 'congressman': 648,\n",
       " 'burn': 649,\n",
       " 'delay': 650,\n",
       " 'surprise': 651,\n",
       " 'warren': 652,\n",
       " 'trial': 653,\n",
       " 'west': 654,\n",
       " 'palestinian': 655,\n",
       " 'stay': 656,\n",
       " 'debt': 657,\n",
       " 'access': 658,\n",
       " 'investigate': 659,\n",
       " 'book': 660,\n",
       " 'citizen': 661,\n",
       " 'egypt': 662,\n",
       " 'ukraine': 663,\n",
       " 'pentagon': 664,\n",
       " 'risk': 665,\n",
       " 'number': 666,\n",
       " 'avoid': 667,\n",
       " 'respond': 668,\n",
       " 'erdogan': 669,\n",
       " 'biden': 670,\n",
       " 'body': 671,\n",
       " 'create': 672,\n",
       " 'boy': 673,\n",
       " 'india': 674,\n",
       " 'place': 675,\n",
       " 'document': 676,\n",
       " 'sarah': 677,\n",
       " 'firm': 678,\n",
       " 'hide': 679,\n",
       " 'quit': 680,\n",
       " 'spain': 681,\n",
       " 'senior': 682,\n",
       " 'lawsuit': 683,\n",
       " 'elect': 684,\n",
       " 'crowd': 685,\n",
       " 'percent': 686,\n",
       " 'share': 687,\n",
       " 'ambassador': 688,\n",
       " 'five': 689,\n",
       " 'criminal': 690,\n",
       " 'doj': 691,\n",
       " 'grow': 692,\n",
       " 'finally': 693,\n",
       " 'rock': 694,\n",
       " 'friend': 695,\n",
       " 'kremlin': 696,\n",
       " 'follow': 697,\n",
       " 'clear': 698,\n",
       " 'cabinet': 699,\n",
       " 'camp': 700,\n",
       " 'pull': 701,\n",
       " 'johnson': 702,\n",
       " 'hard': 703,\n",
       " 'dems': 704,\n",
       " 'chris': 705,\n",
       " 'better': 706,\n",
       " 'fact': 707,\n",
       " 'church': 708,\n",
       " 'boom': 709,\n",
       " 'owner': 710,\n",
       " 'little': 711,\n",
       " 'kurdish': 712,\n",
       " 'cost': 713,\n",
       " 'epa': 714,\n",
       " 'price': 715,\n",
       " 'replace': 716,\n",
       " 'long': 717,\n",
       " 'youre': 718,\n",
       " 'al': 719,\n",
       " 'abuse': 720,\n",
       " 'female': 721,\n",
       " 'early': 722,\n",
       " 'buy': 723,\n",
       " 'deliver': 724,\n",
       " 'baby': 725,\n",
       " 'v': 726,\n",
       " 'africa': 727,\n",
       " 'lebanon': 728,\n",
       " 'italy': 729,\n",
       " 'israeli': 730,\n",
       " 'envoy': 731,\n",
       " 'cover': 732,\n",
       " 'inside': 733,\n",
       " 'praise': 734,\n",
       " 'around': 735,\n",
       " 'gold': 736,\n",
       " 'train': 737,\n",
       " 'worry': 738,\n",
       " 'check': 739,\n",
       " 'detain': 740,\n",
       " 'since': 741,\n",
       " 'defeat': 742,\n",
       " 'mcconnell': 743,\n",
       " 'spicer': 744,\n",
       " 'mass': 745,\n",
       " 'primary': 746,\n",
       " 'remain': 747,\n",
       " 'perfect': 748,\n",
       " 'friday': 749,\n",
       " 'interest': 750,\n",
       " 'oppose': 751,\n",
       " 'limit': 752,\n",
       " 'mother': 753,\n",
       " 'michelle': 754,\n",
       " 'result': 755,\n",
       " 'megyn': 756,\n",
       " 'brutal': 757,\n",
       " 'benghazi': 758,\n",
       " 'tuesday': 759,\n",
       " 'leaf': 760,\n",
       " 'moore': 761,\n",
       " 'usa': 762,\n",
       " 'ny': 763,\n",
       " 'pipeline': 764,\n",
       " 'private': 765,\n",
       " 'melania': 766,\n",
       " 'read': 767,\n",
       " 'wear': 768,\n",
       " 'daughter': 769,\n",
       " 'file': 770,\n",
       " 'prove': 771,\n",
       " 'hour': 772,\n",
       " 'rebel': 773,\n",
       " 'freedom': 774,\n",
       " 'drive': 775,\n",
       " 'energy': 776,\n",
       " 'epic': 777,\n",
       " 'well': 778,\n",
       " 'dangerous': 779,\n",
       " 'suspend': 780,\n",
       " 'study': 781,\n",
       " 'choice': 782,\n",
       " 'dc': 783,\n",
       " 'aleppo': 784,\n",
       " 'iowa': 785,\n",
       " 'michigan': 786,\n",
       " 'welcome': 787,\n",
       " 'jr': 788,\n",
       " 'carson': 789,\n",
       " 'xi': 790,\n",
       " 'pledge': 791,\n",
       " 'accept': 792,\n",
       " 'soon': 793,\n",
       " 'msnbc': 794,\n",
       " 'flight': 795,\n",
       " 'kick': 796,\n",
       " 'might': 797,\n",
       " 'kellyanne': 798,\n",
       " 'conway': 799,\n",
       " 'focus': 800,\n",
       " 'far': 801,\n",
       " 'staff': 802,\n",
       " 'ignore': 803,\n",
       " 'clash': 804,\n",
       " 'thank': 805,\n",
       " 'afghanistan': 806,\n",
       " 'nomination': 807,\n",
       " 'violent': 808,\n",
       " 'already': 809,\n",
       " 'airport': 810,\n",
       " 'donor': 811,\n",
       " 'brazil': 812,\n",
       " 'hilariously': 813,\n",
       " 'feel': 814,\n",
       " 'land': 815,\n",
       " 'boost': 816,\n",
       " 'spokesman': 817,\n",
       " 'us': 818,\n",
       " 'hire': 819,\n",
       " 'include': 820,\n",
       " 'something': 821,\n",
       " 'address': 822,\n",
       " 'mosul': 823,\n",
       " 'tear': 824,\n",
       " 'red': 825,\n",
       " 'soros': 826,\n",
       " 'criticize': 827,\n",
       " 'ivanka': 828,\n",
       " 'radical': 829,\n",
       " 'information': 830,\n",
       " 'commit': 831,\n",
       " 'guy': 832,\n",
       " 'troll': 833,\n",
       " 'base': 834,\n",
       " 'powerful': 835,\n",
       " 'angry': 836,\n",
       " 'dispute': 837,\n",
       " 'vp': 838,\n",
       " 'stage': 839,\n",
       " 'moment': 840,\n",
       " 'afghan': 841,\n",
       " 'condemn': 842,\n",
       " 'parenthood': 843,\n",
       " 'request': 844,\n",
       " 'search': 845,\n",
       " 'th': 846,\n",
       " 'financial': 847,\n",
       " 'le': 848,\n",
       " 'employee': 849,\n",
       " 'rant': 850,\n",
       " 'disgust': 851,\n",
       " 'term': 852,\n",
       " 'draw': 853,\n",
       " 'worse': 854,\n",
       " 'super': 855,\n",
       " 'biggest': 856,\n",
       " 'elizabeth': 857,\n",
       " 'teen': 858,\n",
       " 'network': 859,\n",
       " 'racism': 860,\n",
       " 'navy': 861,\n",
       " 'receive': 862,\n",
       " 'ben': 863,\n",
       " 'remark': 864,\n",
       " 'yr': 865,\n",
       " 'add': 866,\n",
       " 'teacher': 867,\n",
       " 'pakistan': 868,\n",
       " 'sale': 869,\n",
       " 'cancer': 870,\n",
       " 'bathroom': 871,\n",
       " 'bannon': 872,\n",
       " 'catalonia': 873,\n",
       " 'australia': 874,\n",
       " 'celebrate': 875,\n",
       " 'pelosi': 876,\n",
       " 'christie': 877,\n",
       " 'finance': 878,\n",
       " 'transition': 879,\n",
       " 'council': 880,\n",
       " 'labor': 881,\n",
       " 'cite': 882,\n",
       " 'actually': 883,\n",
       " 'fck': 884,\n",
       " 'theyre': 885,\n",
       " 'laugh': 886,\n",
       " 'hurt': 887,\n",
       " 'summit': 888,\n",
       " 'steve': 889,\n",
       " 'manager': 890,\n",
       " 'appear': 891,\n",
       " 'weigh': 892,\n",
       " 'agenda': 893,\n",
       " 'oregon': 894,\n",
       " 'isnt': 895,\n",
       " 'visa': 896,\n",
       " 'worst': 897,\n",
       " 'increase': 898,\n",
       " 'class': 899,\n",
       " 'virginia': 900,\n",
       " 'account': 901,\n",
       " 'nothing': 902,\n",
       " 'suggest': 903,\n",
       " 'green': 904,\n",
       " 'riot': 905,\n",
       " 'orlando': 906,\n",
       " 'critic': 907,\n",
       " 'capital': 908,\n",
       " 'moscow': 909,\n",
       " 'walk': 910,\n",
       " 'congressional': 911,\n",
       " 'embassy': 912,\n",
       " 'six': 913,\n",
       " 'crazy': 914,\n",
       " 'light': 915,\n",
       " 'robert': 916,\n",
       " 'prince': 917,\n",
       " 'decide': 918,\n",
       " 'community': 919,\n",
       " 'sick': 920,\n",
       " 'dollar': 921,\n",
       " 'nyc': 922,\n",
       " 'guilty': 923,\n",
       " 'write': 924,\n",
       " 'netanyahu': 925,\n",
       " 'picture': 926,\n",
       " 'side': 927,\n",
       " 'intel': 928,\n",
       " 'reopen': 929,\n",
       " 'player': 930,\n",
       " 'father': 931,\n",
       " 'machine': 932,\n",
       " 'referendum': 933,\n",
       " 'sea': 934,\n",
       " 'morning': 935,\n",
       " 'criticism': 936,\n",
       " 'taxpayer': 937,\n",
       " 'project': 938,\n",
       " 'tension': 939,\n",
       " 'whine': 940,\n",
       " 'yearold': 941,\n",
       " 'rate': 942,\n",
       " 'chairman': 943,\n",
       " 'ohio': 944,\n",
       " 'allegation': 945,\n",
       " 'palin': 946,\n",
       " 'alabama': 947,\n",
       " 'data': 948,\n",
       " 'shes': 949,\n",
       " 'zika': 950,\n",
       " 'irma': 951,\n",
       " 'dakota': 952,\n",
       " 'christmas': 953,\n",
       " 'embarrass': 954,\n",
       " 'brilliant': 955,\n",
       " 'jeb': 956,\n",
       " 'plane': 957,\n",
       " 'conspiracy': 958,\n",
       " 'gas': 959,\n",
       " 'central': 960,\n",
       " 'parent': 961,\n",
       " 'loss': 962,\n",
       " 'diplomat': 963,\n",
       " 'rap': 964,\n",
       " 'gain': 965,\n",
       " 'plot': 966,\n",
       " 'deep': 967,\n",
       " 'vet': 968,\n",
       " 'african': 969,\n",
       " 'potential': 970,\n",
       " 'damage': 971,\n",
       " 'scott': 972,\n",
       " 'phone': 973,\n",
       " 'google': 974,\n",
       " 'thursday': 975,\n",
       " 'fix': 976,\n",
       " 'shift': 977,\n",
       " 'carry': 978,\n",
       " 'marriage': 979,\n",
       " 'collapse': 980,\n",
       " 'cyber': 981,\n",
       " 'conference': 982,\n",
       " 'billionaire': 983,\n",
       " 'civilian': 984,\n",
       " 'sheriff': 985,\n",
       " 'brother': 986,\n",
       " 'november': 987,\n",
       " 'everyone': 988,\n",
       " 'testify': 989,\n",
       " 'stupid': 990,\n",
       " 'deputy': 991,\n",
       " 'pas': 992,\n",
       " 'mind': 993,\n",
       " 'lol': 994,\n",
       " 'chance': 995,\n",
       " 'david': 996,\n",
       " 'struggle': 997,\n",
       " 'enter': 998,\n",
       " 'cross': 999,\n",
       " 'forget': 1000,\n",
       " ...}"
      ]
     },
     "execution_count": 19,
     "metadata": {},
     "output_type": "execute_result"
    }
   ],
   "source": [
    "# build vocab using keras.tokenizer with mode freq\n",
    "from tensorflow.keras.preprocessing.text import Tokenizer\n",
    "\n",
    "vocab_sz=10000\n",
    "tok=Tokenizer(num_words=vocab_sz,oov_token=\"UNK\")\n",
    "tok.fit_on_texts(trn_texts+tst_texts)\n",
    "\n",
    "tok.word_index"
   ]
  },
  {
   "cell_type": "code",
   "execution_count": 20,
   "id": "9a5abe1e-8ff5-49ba-9341-b63344f87a82",
   "metadata": {},
   "outputs": [
    {
     "name": "stdout",
     "output_type": "stream",
     "text": [
      "(43645, 10000)\n",
      "(18706, 10000)\n"
     ]
    }
   ],
   "source": [
    "x_train=tok.texts_to_matrix(trn_texts,mode='tfidf')\n",
    "x_test=tok.texts_to_matrix(tst_texts,mode='tfidf')\n",
    "\n",
    "\n",
    "print (x_train.shape)\n",
    "print (x_test.shape)"
   ]
  },
  {
   "cell_type": "code",
   "execution_count": 21,
   "id": "07bde2a2-75e6-4be4-a39d-171f79ab26b1",
   "metadata": {},
   "outputs": [
    {
     "data": {
      "text/plain": [
       "array([0., 0., 0., ..., 0., 0., 0.])"
      ]
     },
     "execution_count": 21,
     "metadata": {},
     "output_type": "execute_result"
    }
   ],
   "source": [
    "x_train[0]"
   ]
  },
  {
   "cell_type": "markdown",
   "id": "d15ca4e9-56de-42e9-bdc6-8af6f0510287",
   "metadata": {},
   "source": [
    "## Part Three: Build Model"
   ]
  },
  {
   "cell_type": "markdown",
   "id": "a519be12-f762-48a9-92bf-d50a3f62f381",
   "metadata": {},
   "source": [
    "### 1- BOW"
   ]
  },
  {
   "cell_type": "code",
   "execution_count": 22,
   "id": "95905eef-f863-404e-ab3e-eb4d94635ce0",
   "metadata": {},
   "outputs": [
    {
     "data": {
      "text/html": [
       "<pre style=\"white-space:pre;overflow-x:auto;line-height:normal;font-family:Menlo,'DejaVu Sans Mono',consolas,'Courier New',monospace\"><span style=\"font-weight: bold\">Model: \"sequential\"</span>\n",
       "</pre>\n"
      ],
      "text/plain": [
       "\u001b[1mModel: \"sequential\"\u001b[0m\n"
      ]
     },
     "metadata": {},
     "output_type": "display_data"
    },
    {
     "data": {
      "text/html": [
       "<pre style=\"white-space:pre;overflow-x:auto;line-height:normal;font-family:Menlo,'DejaVu Sans Mono',consolas,'Courier New',monospace\">┏━━━━━━━━━━━━━━━━━━━━━━━━━━━━━━━━━┳━━━━━━━━━━━━━━━━━━━━━━━━┳━━━━━━━━━━━━━━━┓\n",
       "┃<span style=\"font-weight: bold\"> Layer (type)                    </span>┃<span style=\"font-weight: bold\"> Output Shape           </span>┃<span style=\"font-weight: bold\">       Param # </span>┃\n",
       "┡━━━━━━━━━━━━━━━━━━━━━━━━━━━━━━━━━╇━━━━━━━━━━━━━━━━━━━━━━━━╇━━━━━━━━━━━━━━━┩\n",
       "│ dense (<span style=\"color: #0087ff; text-decoration-color: #0087ff\">Dense</span>)                   │ (<span style=\"color: #00d7ff; text-decoration-color: #00d7ff\">None</span>, <span style=\"color: #00af00; text-decoration-color: #00af00\">512</span>)            │     <span style=\"color: #00af00; text-decoration-color: #00af00\">5,120,512</span> │\n",
       "├─────────────────────────────────┼────────────────────────┼───────────────┤\n",
       "│ dropout (<span style=\"color: #0087ff; text-decoration-color: #0087ff\">Dropout</span>)               │ (<span style=\"color: #00d7ff; text-decoration-color: #00d7ff\">None</span>, <span style=\"color: #00af00; text-decoration-color: #00af00\">512</span>)            │             <span style=\"color: #00af00; text-decoration-color: #00af00\">0</span> │\n",
       "├─────────────────────────────────┼────────────────────────┼───────────────┤\n",
       "│ dense_1 (<span style=\"color: #0087ff; text-decoration-color: #0087ff\">Dense</span>)                 │ (<span style=\"color: #00d7ff; text-decoration-color: #00d7ff\">None</span>, <span style=\"color: #00af00; text-decoration-color: #00af00\">128</span>)            │        <span style=\"color: #00af00; text-decoration-color: #00af00\">65,664</span> │\n",
       "├─────────────────────────────────┼────────────────────────┼───────────────┤\n",
       "│ dropout_1 (<span style=\"color: #0087ff; text-decoration-color: #0087ff\">Dropout</span>)             │ (<span style=\"color: #00d7ff; text-decoration-color: #00d7ff\">None</span>, <span style=\"color: #00af00; text-decoration-color: #00af00\">128</span>)            │             <span style=\"color: #00af00; text-decoration-color: #00af00\">0</span> │\n",
       "├─────────────────────────────────┼────────────────────────┼───────────────┤\n",
       "│ dense_2 (<span style=\"color: #0087ff; text-decoration-color: #0087ff\">Dense</span>)                 │ (<span style=\"color: #00d7ff; text-decoration-color: #00d7ff\">None</span>, <span style=\"color: #00af00; text-decoration-color: #00af00\">2</span>)              │           <span style=\"color: #00af00; text-decoration-color: #00af00\">258</span> │\n",
       "└─────────────────────────────────┴────────────────────────┴───────────────┘\n",
       "</pre>\n"
      ],
      "text/plain": [
       "┏━━━━━━━━━━━━━━━━━━━━━━━━━━━━━━━━━┳━━━━━━━━━━━━━━━━━━━━━━━━┳━━━━━━━━━━━━━━━┓\n",
       "┃\u001b[1m \u001b[0m\u001b[1mLayer (type)                   \u001b[0m\u001b[1m \u001b[0m┃\u001b[1m \u001b[0m\u001b[1mOutput Shape          \u001b[0m\u001b[1m \u001b[0m┃\u001b[1m \u001b[0m\u001b[1m      Param #\u001b[0m\u001b[1m \u001b[0m┃\n",
       "┡━━━━━━━━━━━━━━━━━━━━━━━━━━━━━━━━━╇━━━━━━━━━━━━━━━━━━━━━━━━╇━━━━━━━━━━━━━━━┩\n",
       "│ dense (\u001b[38;5;33mDense\u001b[0m)                   │ (\u001b[38;5;45mNone\u001b[0m, \u001b[38;5;34m512\u001b[0m)            │     \u001b[38;5;34m5,120,512\u001b[0m │\n",
       "├─────────────────────────────────┼────────────────────────┼───────────────┤\n",
       "│ dropout (\u001b[38;5;33mDropout\u001b[0m)               │ (\u001b[38;5;45mNone\u001b[0m, \u001b[38;5;34m512\u001b[0m)            │             \u001b[38;5;34m0\u001b[0m │\n",
       "├─────────────────────────────────┼────────────────────────┼───────────────┤\n",
       "│ dense_1 (\u001b[38;5;33mDense\u001b[0m)                 │ (\u001b[38;5;45mNone\u001b[0m, \u001b[38;5;34m128\u001b[0m)            │        \u001b[38;5;34m65,664\u001b[0m │\n",
       "├─────────────────────────────────┼────────────────────────┼───────────────┤\n",
       "│ dropout_1 (\u001b[38;5;33mDropout\u001b[0m)             │ (\u001b[38;5;45mNone\u001b[0m, \u001b[38;5;34m128\u001b[0m)            │             \u001b[38;5;34m0\u001b[0m │\n",
       "├─────────────────────────────────┼────────────────────────┼───────────────┤\n",
       "│ dense_2 (\u001b[38;5;33mDense\u001b[0m)                 │ (\u001b[38;5;45mNone\u001b[0m, \u001b[38;5;34m2\u001b[0m)              │           \u001b[38;5;34m258\u001b[0m │\n",
       "└─────────────────────────────────┴────────────────────────┴───────────────┘\n"
      ]
     },
     "metadata": {},
     "output_type": "display_data"
    },
    {
     "data": {
      "text/html": [
       "<pre style=\"white-space:pre;overflow-x:auto;line-height:normal;font-family:Menlo,'DejaVu Sans Mono',consolas,'Courier New',monospace\"><span style=\"font-weight: bold\"> Total params: </span><span style=\"color: #00af00; text-decoration-color: #00af00\">5,186,434</span> (19.78 MB)\n",
       "</pre>\n"
      ],
      "text/plain": [
       "\u001b[1m Total params: \u001b[0m\u001b[38;5;34m5,186,434\u001b[0m (19.78 MB)\n"
      ]
     },
     "metadata": {},
     "output_type": "display_data"
    },
    {
     "data": {
      "text/html": [
       "<pre style=\"white-space:pre;overflow-x:auto;line-height:normal;font-family:Menlo,'DejaVu Sans Mono',consolas,'Courier New',monospace\"><span style=\"font-weight: bold\"> Trainable params: </span><span style=\"color: #00af00; text-decoration-color: #00af00\">5,186,434</span> (19.78 MB)\n",
       "</pre>\n"
      ],
      "text/plain": [
       "\u001b[1m Trainable params: \u001b[0m\u001b[38;5;34m5,186,434\u001b[0m (19.78 MB)\n"
      ]
     },
     "metadata": {},
     "output_type": "display_data"
    },
    {
     "data": {
      "text/html": [
       "<pre style=\"white-space:pre;overflow-x:auto;line-height:normal;font-family:Menlo,'DejaVu Sans Mono',consolas,'Courier New',monospace\"><span style=\"font-weight: bold\"> Non-trainable params: </span><span style=\"color: #00af00; text-decoration-color: #00af00\">0</span> (0.00 B)\n",
       "</pre>\n"
      ],
      "text/plain": [
       "\u001b[1m Non-trainable params: \u001b[0m\u001b[38;5;34m0\u001b[0m (0.00 B)\n"
      ]
     },
     "metadata": {},
     "output_type": "display_data"
    }
   ],
   "source": [
    "bow_model = Sequential()\n",
    "bow_model.add(Dense(512, activation='relu', input_shape=(vocab_sz,), kernel_regularizer=l2(0.01)))\n",
    "bow_model.add(Dropout(0.5))\n",
    "bow_model.add(Dense(128, activation='relu', kernel_regularizer=l2(0.01)))\n",
    "bow_model.add(Dropout(0.5))\n",
    "bow_model.add(Dense(2, activation='softmax'))\n",
    "bow_model.summary()"
   ]
  },
  {
   "cell_type": "code",
   "execution_count": 23,
   "id": "70679f4c-9919-4d62-b2ec-7b9d0de1fce4",
   "metadata": {},
   "outputs": [],
   "source": [
    "y_train = to_categorical(y_train, num_classes=2)\n",
    "y_test = to_categorical(y_test, num_classes=2)"
   ]
  },
  {
   "cell_type": "code",
   "execution_count": 24,
   "id": "b0185dac-609d-4fec-b6a9-1443e68cfed9",
   "metadata": {},
   "outputs": [],
   "source": [
    "# # split data to train and validation\n",
    "# partial_x_train,x_val,partial_y_train,y_val=train_test_split(x_train,y_train,test_size=.3,random_state=42)"
   ]
  },
  {
   "cell_type": "code",
   "execution_count": 25,
   "id": "0ea5d66a-d612-4942-9081-bbcc6706271d",
   "metadata": {},
   "outputs": [
    {
     "name": "stdout",
     "output_type": "stream",
     "text": [
      "Epoch 1/100\n",
      "\u001b[1m171/171\u001b[0m \u001b[32m━━━━━━━━━━━━━━━━━━━━\u001b[0m\u001b[37m\u001b[0m \u001b[1m28s\u001b[0m 152ms/step - accuracy: 0.7916 - loss: 3.3460 - val_accuracy: 0.8705 - val_loss: 0.6104\n",
      "Epoch 2/100\n",
      "\u001b[1m171/171\u001b[0m \u001b[32m━━━━━━━━━━━━━━━━━━━━\u001b[0m\u001b[37m\u001b[0m \u001b[1m24s\u001b[0m 139ms/step - accuracy: 0.8743 - loss: 0.5858 - val_accuracy: 0.8730 - val_loss: 0.5903\n",
      "Epoch 3/100\n",
      "\u001b[1m171/171\u001b[0m \u001b[32m━━━━━━━━━━━━━━━━━━━━\u001b[0m\u001b[37m\u001b[0m \u001b[1m24s\u001b[0m 141ms/step - accuracy: 0.8810 - loss: 0.5742 - val_accuracy: 0.8743 - val_loss: 0.5775\n",
      "Epoch 4/100\n",
      "\u001b[1m171/171\u001b[0m \u001b[32m━━━━━━━━━━━━━━━━━━━━\u001b[0m\u001b[37m\u001b[0m \u001b[1m24s\u001b[0m 141ms/step - accuracy: 0.8855 - loss: 0.5557 - val_accuracy: 0.8778 - val_loss: 0.5655\n",
      "Epoch 5/100\n",
      "\u001b[1m171/171\u001b[0m \u001b[32m━━━━━━━━━━━━━━━━━━━━\u001b[0m\u001b[37m\u001b[0m \u001b[1m24s\u001b[0m 139ms/step - accuracy: 0.8874 - loss: 0.5457 - val_accuracy: 0.8786 - val_loss: 0.5689\n",
      "Epoch 6/100\n",
      "\u001b[1m171/171\u001b[0m \u001b[32m━━━━━━━━━━━━━━━━━━━━\u001b[0m\u001b[37m\u001b[0m \u001b[1m24s\u001b[0m 139ms/step - accuracy: 0.8942 - loss: 0.5309 - val_accuracy: 0.8815 - val_loss: 0.5487\n",
      "Epoch 7/100\n",
      "\u001b[1m171/171\u001b[0m \u001b[32m━━━━━━━━━━━━━━━━━━━━\u001b[0m\u001b[37m\u001b[0m \u001b[1m24s\u001b[0m 139ms/step - accuracy: 0.8946 - loss: 0.5158 - val_accuracy: 0.8812 - val_loss: 0.5319\n",
      "Epoch 8/100\n",
      "\u001b[1m171/171\u001b[0m \u001b[32m━━━━━━━━━━━━━━━━━━━━\u001b[0m\u001b[37m\u001b[0m \u001b[1m24s\u001b[0m 139ms/step - accuracy: 0.8946 - loss: 0.5055 - val_accuracy: 0.8831 - val_loss: 0.5341\n",
      "Epoch 9/100\n",
      "\u001b[1m171/171\u001b[0m \u001b[32m━━━━━━━━━━━━━━━━━━━━\u001b[0m\u001b[37m\u001b[0m \u001b[1m24s\u001b[0m 141ms/step - accuracy: 0.8965 - loss: 0.5029 - val_accuracy: 0.8843 - val_loss: 0.5157\n",
      "Epoch 10/100\n",
      "\u001b[1m171/171\u001b[0m \u001b[32m━━━━━━━━━━━━━━━━━━━━\u001b[0m\u001b[37m\u001b[0m \u001b[1m26s\u001b[0m 150ms/step - accuracy: 0.8969 - loss: 0.4864 - val_accuracy: 0.8858 - val_loss: 0.5161\n",
      "Epoch 11/100\n",
      "\u001b[1m171/171\u001b[0m \u001b[32m━━━━━━━━━━━━━━━━━━━━\u001b[0m\u001b[37m\u001b[0m \u001b[1m26s\u001b[0m 150ms/step - accuracy: 0.8992 - loss: 0.4818 - val_accuracy: 0.8858 - val_loss: 0.5071\n",
      "Epoch 12/100\n",
      "\u001b[1m171/171\u001b[0m \u001b[32m━━━━━━━━━━━━━━━━━━━━\u001b[0m\u001b[37m\u001b[0m \u001b[1m24s\u001b[0m 140ms/step - accuracy: 0.8991 - loss: 0.4772 - val_accuracy: 0.8842 - val_loss: 0.5168\n",
      "Epoch 13/100\n",
      "\u001b[1m171/171\u001b[0m \u001b[32m━━━━━━━━━━━━━━━━━━━━\u001b[0m\u001b[37m\u001b[0m \u001b[1m25s\u001b[0m 148ms/step - accuracy: 0.9048 - loss: 0.4742 - val_accuracy: 0.8835 - val_loss: 0.5090\n",
      "Epoch 14/100\n",
      "\u001b[1m171/171\u001b[0m \u001b[32m━━━━━━━━━━━━━━━━━━━━\u001b[0m\u001b[37m\u001b[0m \u001b[1m25s\u001b[0m 146ms/step - accuracy: 0.9013 - loss: 0.4697 - val_accuracy: 0.8843 - val_loss: 0.5074\n",
      "Epoch 15/100\n",
      "\u001b[1m171/171\u001b[0m \u001b[32m━━━━━━━━━━━━━━━━━━━━\u001b[0m\u001b[37m\u001b[0m \u001b[1m25s\u001b[0m 145ms/step - accuracy: 0.9051 - loss: 0.4701 - val_accuracy: 0.8881 - val_loss: 0.5069\n",
      "Epoch 16/100\n",
      "\u001b[1m171/171\u001b[0m \u001b[32m━━━━━━━━━━━━━━━━━━━━\u001b[0m\u001b[37m\u001b[0m \u001b[1m24s\u001b[0m 140ms/step - accuracy: 0.9052 - loss: 0.4722 - val_accuracy: 0.8867 - val_loss: 0.5070\n",
      "Epoch 17/100\n",
      "\u001b[1m171/171\u001b[0m \u001b[32m━━━━━━━━━━━━━━━━━━━━\u001b[0m\u001b[37m\u001b[0m \u001b[1m26s\u001b[0m 150ms/step - accuracy: 0.9035 - loss: 0.4721 - val_accuracy: 0.8870 - val_loss: 0.5130\n",
      "Epoch 18/100\n",
      "\u001b[1m171/171\u001b[0m \u001b[32m━━━━━━━━━━━━━━━━━━━━\u001b[0m\u001b[37m\u001b[0m \u001b[1m24s\u001b[0m 141ms/step - accuracy: 0.9008 - loss: 0.4734 - val_accuracy: 0.8854 - val_loss: 0.5227\n",
      "Epoch 19/100\n",
      "\u001b[1m171/171\u001b[0m \u001b[32m━━━━━━━━━━━━━━━━━━━━\u001b[0m\u001b[37m\u001b[0m \u001b[1m24s\u001b[0m 142ms/step - accuracy: 0.9069 - loss: 0.4748 - val_accuracy: 0.8853 - val_loss: 0.5163\n",
      "Epoch 20/100\n",
      "\u001b[1m171/171\u001b[0m \u001b[32m━━━━━━━━━━━━━━━━━━━━\u001b[0m\u001b[37m\u001b[0m \u001b[1m24s\u001b[0m 141ms/step - accuracy: 0.9054 - loss: 0.4725 - val_accuracy: 0.8853 - val_loss: 0.5174\n"
     ]
    }
   ],
   "source": [
    "bow_model.compile(optimizer='adam', loss='categorical_crossentropy', metrics=['accuracy'])\n",
    "early_stopping = EarlyStopping(monitor='val_loss', patience=5, restore_best_weights=True)\n",
    "history =bow_model.fit(x_train, y_train, validation_data=(x_test, y_test), batch_size=256, epochs=100,callbacks=early_stopping)"
   ]
  },
  {
   "cell_type": "markdown",
   "id": "968033b5-5186-48f3-9e7f-0988b8b2b7d3",
   "metadata": {},
   "source": [
    "#### Model Evaluation  "
   ]
  },
  {
   "cell_type": "code",
   "execution_count": 26,
   "id": "e8068d39-352f-43ee-b32c-93e3eb19d8cc",
   "metadata": {},
   "outputs": [
    {
     "data": {
      "image/png": "[encoded data removed]",
      "text/plain": [
       "<Figure size 640x480 with 1 Axes>"
      ]
     },
     "metadata": {},
     "output_type": "display_data"
    }
   ],
   "source": [
    "plt.plot(history.history['loss'])\n",
    "plt.plot(history.history['val_loss'])\n",
    "plt.xlabel('epochs')\n",
    "plt.ylabel('loss')\n",
    "plt.legend(['loss','val_loss'])\n",
    "plt.title(\"BOW loss VS val_loss\",fontweight=\"bold\")\n",
    "plt.show()"
   ]
  },
  {
   "cell_type": "code",
   "execution_count": 27,
   "id": "a1633e2d-5faa-4955-b1f9-d90802616295",
   "metadata": {},
   "outputs": [
    {
     "data": {
      "image/png": "[encoded data removed]",
      "text/plain": [
       "<Figure size 640x480 with 1 Axes>"
      ]
     },
     "metadata": {},
     "output_type": "display_data"
    }
   ],
   "source": [
    "plt.plot(history.history['accuracy'])\n",
    "plt.plot(history.history['val_accuracy'])\n",
    "plt.xlabel('epochs')\n",
    "plt.ylabel('accuracy')\n",
    "plt.legend(['accuracy','val_accuracy'])\n",
    "plt.title(\"BOW accuracy VS val_accuracy\",fontweight=\"bold\")\n",
    "plt.show()"
   ]
  },
  {
   "cell_type": "code",
   "execution_count": 28,
   "id": "1543fbe5-1406-408b-b4d5-8eebc6ce0b0e",
   "metadata": {},
   "outputs": [
    {
     "name": "stdout",
     "output_type": "stream",
     "text": [
      "Train Accuracy: 0.93\n",
      "Test Accuracy: 0.89\n"
     ]
    }
   ],
   "source": [
    "loss, accuracy = bow_model.evaluate(x_train, y_train, verbose=0)\n",
    "print(f\"Train Accuracy: {accuracy:.2f}\")\n",
    "\n",
    "loss, accuracy = bow_model.evaluate(x_test, y_test, verbose=0)\n",
    "print(f\"Test Accuracy: {accuracy:.2f}\")"
   ]
  },
  {
   "cell_type": "code",
   "execution_count": 29,
   "id": "0abe18f3-612e-4b9f-8995-66f2303cbb12",
   "metadata": {},
   "outputs": [
    {
     "name": "stdout",
     "output_type": "stream",
     "text": [
      "\u001b[1m585/585\u001b[0m \u001b[32m━━━━━━━━━━━━━━━━━━━━\u001b[0m\u001b[37m\u001b[0m \u001b[1m3s\u001b[0m 4ms/step\n"
     ]
    }
   ],
   "source": [
    "y_pred_probs = bow_model.predict(x_test)\n",
    "y_pred = np.argmax(y_pred_probs, axis=1)\n",
    "y_test = np.argmax(y_test, axis=1)\n",
    "conf_matrix = confusion_matrix(y_test, y_pred)"
   ]
  },
  {
   "cell_type": "code",
   "execution_count": 31,
   "id": "bfe4a2d1-cca1-49ad-b849-60ddbcc4a48f",
   "metadata": {},
   "outputs": [
    {
     "data": {
      "image/png": "[encoded data removed]",
      "text/plain": [
       "<Figure size 800x600 with 2 Axes>"
      ]
     },
     "metadata": {},
     "output_type": "display_data"
    }
   ],
   "source": [
    "plt.figure(figsize=(8,6))\n",
    "sns.heatmap(conf_matrix, annot=True, fmt='d', cmap='Blues', xticklabels=[0, 1], yticklabels=[0, 1])\n",
    "plt.xlabel('Predicted Label')\n",
    "plt.ylabel('True Label')\n",
    "plt.title('Confusion Matrix')\n",
    "plt.show()"
   ]
  },
  {
   "cell_type": "code",
   "execution_count": 33,
   "id": "b2c5b53e-3fb8-4c7e-a51a-f7c004819d57",
   "metadata": {},
   "outputs": [
    {
     "name": "stdout",
     "output_type": "stream",
     "text": [
      "Classification Report:\n",
      "              precision    recall  f1-score   support\n",
      "\n",
      "     Class 0       0.90      0.90      0.90     10315\n",
      "     Class 1       0.87      0.88      0.88      8391\n",
      "\n",
      "    accuracy                           0.89     18706\n",
      "   macro avg       0.89      0.89      0.89     18706\n",
      "weighted avg       0.89      0.89      0.89     18706\n",
      "\n"
     ]
    }
   ],
   "source": [
    "# Classification report\n",
    "class_report = classification_report(y_test, y_pred, target_names=['Class 0', 'Class 1'])\n",
    "print(\"Classification Report:\")\n",
    "print(class_report)"
   ]
  },
  {
   "cell_type": "markdown",
   "id": "437ff082-40df-4834-887a-ec7e3824a43f",
   "metadata": {},
   "source": [
    "### 2- Using Word Embeddings"
   ]
  },
  {
   "cell_type": "markdown",
   "id": "8c016d1c-5154-43ac-b13f-11bb6058070c",
   "metadata": {},
   "source": [
    "#### a- End to End task"
   ]
  },
  {
   "cell_type": "code",
   "execution_count": 35,
   "id": "3a6ce632-57d8-4ebc-a5c9-43c4b004da14",
   "metadata": {},
   "outputs": [
    {
     "name": "stdout",
     "output_type": "stream",
     "text": [
      "(43645,)\n",
      "(43645,)\n",
      "(18706,)\n",
      "(18706,)\n"
     ]
    }
   ],
   "source": [
    "x_train,x_test,y_train,y_test = train_test_split(df.title , df.label , test_size=0.3, random_state=42)\n",
    "\n",
    "\n",
    "print (x_train.shape)\n",
    "print (y_train.shape)\n",
    "print (x_test.shape)\n",
    "print (y_test.shape)"
   ]
  },
  {
   "cell_type": "code",
   "execution_count": 36,
   "id": "1e35a3c9-d4ba-4964-af5e-3c3645a19ea6",
   "metadata": {},
   "outputs": [],
   "source": [
    "def normalize_corpus (corpus):\n",
    "  return [normalize_text(s) for s in corpus]\n",
    "\n",
    "trn_texts=normalize_corpus(x_train)\n",
    "tst_texts=normalize_corpus(x_test)"
   ]
  },
  {
   "cell_type": "code",
   "execution_count": 37,
   "id": "f1e60d30-35a1-49cf-965a-5f0dd934373e",
   "metadata": {},
   "outputs": [
    {
     "data": {
      "text/plain": [
       "{'UNK': 1,\n",
       " 'trump': 2,\n",
       " 'new': 3,\n",
       " 'time': 4,\n",
       " 'video': 5,\n",
       " 'york': 6,\n",
       " 'u': 7,\n",
       " 'say': 8,\n",
       " 'clinton': 9,\n",
       " 'hillary': 10,\n",
       " 'obama': 11,\n",
       " 'breitbart': 12,\n",
       " 'house': 13,\n",
       " 'republican': 14,\n",
       " 'donald': 15,\n",
       " 'watch': 16,\n",
       " 'white': 17,\n",
       " 'get': 18,\n",
       " 'state': 19,\n",
       " 'president': 20,\n",
       " 'russia': 21,\n",
       " 'call': 22,\n",
       " 'election': 23,\n",
       " 'vote': 24,\n",
       " 'bill': 25,\n",
       " 'make': 26,\n",
       " 'attack': 27,\n",
       " 'news': 28,\n",
       " 'go': 29,\n",
       " 'plan': 30,\n",
       " 'court': 31,\n",
       " 'gop': 32,\n",
       " 'break': 33,\n",
       " 'democrat': 34,\n",
       " 'kill': 35,\n",
       " 'campaign': 36,\n",
       " 'north': 37,\n",
       " 'take': 38,\n",
       " 'tweet': 39,\n",
       " 'senate': 40,\n",
       " 'police': 41,\n",
       " 'black': 42,\n",
       " 'medium': 43,\n",
       " 'american': 44,\n",
       " 'america': 45,\n",
       " 'show': 46,\n",
       " 'korea': 47,\n",
       " 'deal': 48,\n",
       " 'want': 49,\n",
       " 'back': 50,\n",
       " 'tell': 51,\n",
       " 'war': 52,\n",
       " 'leader': 53,\n",
       " 'meet': 54,\n",
       " 'china': 55,\n",
       " 'may': 56,\n",
       " 'tax': 57,\n",
       " 'woman': 58,\n",
       " 'report': 59,\n",
       " 'fbi': 60,\n",
       " 'russian': 61,\n",
       " 'one': 62,\n",
       " 'talk': 63,\n",
       " 'official': 64,\n",
       " 'muslim': 65,\n",
       " 'win': 66,\n",
       " 'give': 67,\n",
       " 'email': 68,\n",
       " 'party': 69,\n",
       " 'right': 70,\n",
       " 'year': 71,\n",
       " 'syria': 72,\n",
       " 'iran': 73,\n",
       " 'day': 74,\n",
       " 'first': 75,\n",
       " 'rule': 76,\n",
       " 'people': 77,\n",
       " 'ban': 78,\n",
       " 'un': 79,\n",
       " 'government': 80,\n",
       " 'law': 81,\n",
       " 'senator': 82,\n",
       " 'see': 83,\n",
       " 'shoot': 84,\n",
       " 'obamas': 85,\n",
       " 'could': 86,\n",
       " 'supporter': 87,\n",
       " 'world': 88,\n",
       " 'top': 89,\n",
       " 'eu': 90,\n",
       " 'million': 91,\n",
       " 'find': 92,\n",
       " 'voter': 93,\n",
       " 'fire': 94,\n",
       " 'man': 95,\n",
       " 'fight': 96,\n",
       " 'force': 97,\n",
       " 'poll': 98,\n",
       " 'ask': 99,\n",
       " 'support': 100,\n",
       " 'chief': 101,\n",
       " 'congress': 102,\n",
       " 'use': 103,\n",
       " 'warn': 104,\n",
       " 'former': 105,\n",
       " 'debate': 106,\n",
       " 'try': 107,\n",
       " 'claim': 108,\n",
       " 'security': 109,\n",
       " 'speech': 110,\n",
       " 'comment': 111,\n",
       " 'putin': 112,\n",
       " 'minister': 113,\n",
       " 'twitter': 114,\n",
       " 'sander': 115,\n",
       " 'lie': 116,\n",
       " 'arrest': 117,\n",
       " 'border': 118,\n",
       " 'end': 119,\n",
       " 'leave': 120,\n",
       " 'order': 121,\n",
       " 'would': 122,\n",
       " 'seek': 123,\n",
       " 'like': 124,\n",
       " 'south': 125,\n",
       " 'gun': 126,\n",
       " 'probe': 127,\n",
       " 'change': 128,\n",
       " 'source': 129,\n",
       " 'help': 130,\n",
       " 'face': 131,\n",
       " 'conservative': 132,\n",
       " 'work': 133,\n",
       " 'presidential': 134,\n",
       " 'fox': 135,\n",
       " 'pm': 136,\n",
       " 'obamacare': 137,\n",
       " 'judge': 138,\n",
       " 'move': 139,\n",
       " 'need': 140,\n",
       " 'protest': 141,\n",
       " 'lawmaker': 142,\n",
       " 'military': 143,\n",
       " 'brexit': 144,\n",
       " 'run': 145,\n",
       " 'refugee': 146,\n",
       " 'life': 147,\n",
       " 'cruz': 148,\n",
       " 'come': 149,\n",
       " 'nuclear': 150,\n",
       " 'foreign': 151,\n",
       " 'lose': 152,\n",
       " 'group': 153,\n",
       " 'fund': 154,\n",
       " 'policy': 155,\n",
       " 'two': 156,\n",
       " 'governor': 157,\n",
       " 'case': 158,\n",
       " 'release': 159,\n",
       " 'fake': 160,\n",
       " 'supreme': 161,\n",
       " 'racist': 162,\n",
       " 'stop': 163,\n",
       " 'open': 164,\n",
       " 'cnn': 165,\n",
       " 'candidate': 166,\n",
       " 'big': 167,\n",
       " 'think': 168,\n",
       " 'saudi': 169,\n",
       " 'know': 170,\n",
       " 'turkey': 171,\n",
       " 'uk': 172,\n",
       " 'race': 173,\n",
       " 'wont': 174,\n",
       " 'school': 175,\n",
       " 'urge': 176,\n",
       " 'rally': 177,\n",
       " 'charge': 178,\n",
       " 'liberal': 179,\n",
       " 'death': 180,\n",
       " 'lead': 181,\n",
       " 'even': 182,\n",
       " 'national': 183,\n",
       " 'political': 184,\n",
       " 'child': 185,\n",
       " 'job': 186,\n",
       " 'pay': 187,\n",
       " 'visit': 188,\n",
       " 'pick': 189,\n",
       " 'destroy': 190,\n",
       " 'way': 191,\n",
       " 'city': 192,\n",
       " 'syrian': 193,\n",
       " 'dont': 194,\n",
       " 'islamic': 195,\n",
       " 'isi': 196,\n",
       " 'student': 197,\n",
       " 'terrorist': 198,\n",
       " 'threaten': 199,\n",
       " 'ryan': 200,\n",
       " 'immigration': 201,\n",
       " 'wall': 202,\n",
       " 'trade': 203,\n",
       " 'head': 204,\n",
       " 'threat': 205,\n",
       " 'look': 206,\n",
       " 'family': 207,\n",
       " 'cut': 208,\n",
       " 'he': 209,\n",
       " 'reveal': 210,\n",
       " 'question': 211,\n",
       " 'paul': 212,\n",
       " 'mexico': 213,\n",
       " 'cop': 214,\n",
       " 'protester': 215,\n",
       " 'bernie': 216,\n",
       " 'host': 217,\n",
       " 'next': 218,\n",
       " 'push': 219,\n",
       " 'keep': 220,\n",
       " 'hack': 221,\n",
       " 'image': 222,\n",
       " 'democratic': 223,\n",
       " 'health': 224,\n",
       " 'climate': 225,\n",
       " 'illegal': 226,\n",
       " 'strike': 227,\n",
       " 'investigation': 228,\n",
       " 'turn': 229,\n",
       " 'sanction': 230,\n",
       " 'hit': 231,\n",
       " 'comey': 232,\n",
       " 'john': 233,\n",
       " 'must': 234,\n",
       " 'hold': 235,\n",
       " 'healthcare': 236,\n",
       " 'press': 237,\n",
       " 'crisis': 238,\n",
       " 'factbox': 239,\n",
       " 'tie': 240,\n",
       " 'dead': 241,\n",
       " 'put': 242,\n",
       " 'set': 243,\n",
       " 'texas': 244,\n",
       " 'german': 245,\n",
       " 'post': 246,\n",
       " 'expose': 247,\n",
       " 'ted': 248,\n",
       " 'general': 249,\n",
       " 'bomb': 250,\n",
       " 'live': 251,\n",
       " 'budget': 252,\n",
       " 'israel': 253,\n",
       " 'defend': 254,\n",
       " 'still': 255,\n",
       " 'justice': 256,\n",
       " 'detail': 257,\n",
       " 'home': 258,\n",
       " 'thing': 259,\n",
       " 'sign': 260,\n",
       " 'iraq': 261,\n",
       " 'free': 262,\n",
       " 'power': 263,\n",
       " 'issue': 264,\n",
       " 'catch': 265,\n",
       " 'secretary': 266,\n",
       " 'week': 267,\n",
       " 'administration': 268,\n",
       " 'defense': 269,\n",
       " 'brief': 270,\n",
       " 'germany': 271,\n",
       " 'interview': 272,\n",
       " 'travel': 273,\n",
       " 'britain': 274,\n",
       " 'france': 275,\n",
       " 'stand': 276,\n",
       " 'blame': 277,\n",
       " 'block': 278,\n",
       " 'shock': 279,\n",
       " 'last': 280,\n",
       " 'target': 281,\n",
       " 'response': 282,\n",
       " 'start': 283,\n",
       " 'department': 284,\n",
       " 'control': 285,\n",
       " 'money': 286,\n",
       " 'reporter': 287,\n",
       " 'secret': 288,\n",
       " 'california': 289,\n",
       " 'offer': 290,\n",
       " 'here': 291,\n",
       " 'send': 292,\n",
       " 'wikileaks': 293,\n",
       " 'suspect': 294,\n",
       " 'return': 295,\n",
       " 'name': 296,\n",
       " 'air': 297,\n",
       " 'test': 298,\n",
       " 'country': 299,\n",
       " 'office': 300,\n",
       " 'migrant': 301,\n",
       " 'exclusive': 302,\n",
       " 'washington': 303,\n",
       " 'opposition': 304,\n",
       " 'accuse': 305,\n",
       " 'reason': 306,\n",
       " 'drop': 307,\n",
       " 'panel': 308,\n",
       " 'cant': 309,\n",
       " 'nominee': 310,\n",
       " 'reform': 311,\n",
       " 'federal': 312,\n",
       " 'team': 313,\n",
       " 'demand': 314,\n",
       " 'close': 315,\n",
       " 'japan': 316,\n",
       " 'water': 317,\n",
       " 'blast': 318,\n",
       " 'violence': 319,\n",
       " 'another': 320,\n",
       " 'aid': 321,\n",
       " 'review': 322,\n",
       " 'leak': 323,\n",
       " 'fail': 324,\n",
       " 'director': 325,\n",
       " 'agency': 326,\n",
       " 'admit': 327,\n",
       " 'hope': 328,\n",
       " 'speak': 329,\n",
       " 'real': 330,\n",
       " 'near': 331,\n",
       " 'myanmar': 332,\n",
       " 'major': 333,\n",
       " 'really': 334,\n",
       " 'happen': 335,\n",
       " 'act': 336,\n",
       " 'antitrump': 337,\n",
       " 'tv': 338,\n",
       " 'hear': 339,\n",
       " 'old': 340,\n",
       " 'lawyer': 341,\n",
       " 'slam': 342,\n",
       " 'billion': 343,\n",
       " 'ahead': 344,\n",
       " 'become': 345,\n",
       " 'presidency': 346,\n",
       " 'christian': 347,\n",
       " 'terror': 348,\n",
       " 'public': 349,\n",
       " 'never': 350,\n",
       " 'bank': 351,\n",
       " 'refuse': 352,\n",
       " 'missile': 353,\n",
       " 'business': 354,\n",
       " 'aide': 355,\n",
       " 'attorney': 356,\n",
       " 'speaker': 357,\n",
       " 'raise': 358,\n",
       " 'step': 359,\n",
       " 'penny': 360,\n",
       " 'amid': 361,\n",
       " 'hate': 362,\n",
       " 'florida': 363,\n",
       " 'army': 364,\n",
       " 'truth': 365,\n",
       " 'street': 366,\n",
       " 'ad': 367,\n",
       " 'victim': 368,\n",
       " 'tillerson': 369,\n",
       " 'worker': 370,\n",
       " 'murder': 371,\n",
       " 'let': 372,\n",
       " 'fear': 373,\n",
       " 'jail': 374,\n",
       " 'member': 375,\n",
       " 'college': 376,\n",
       " 'great': 377,\n",
       " 'immigrant': 378,\n",
       " 'key': 379,\n",
       " 'girl': 380,\n",
       " 'de': 381,\n",
       " 'latest': 382,\n",
       " 'behind': 383,\n",
       " 'star': 384,\n",
       " 'scandal': 385,\n",
       " 'facebook': 386,\n",
       " 'bid': 387,\n",
       " 'bush': 388,\n",
       " 'high': 389,\n",
       " 'story': 390,\n",
       " 'jerusalem': 391,\n",
       " 'build': 392,\n",
       " 'fraud': 393,\n",
       " 'victory': 394,\n",
       " 'mayor': 395,\n",
       " 'adviser': 396,\n",
       " 'launch': 397,\n",
       " 'record': 398,\n",
       " 'announce': 399,\n",
       " 'session': 400,\n",
       " 'allow': 401,\n",
       " 'hand': 402,\n",
       " 'spend': 403,\n",
       " 'doesnt': 404,\n",
       " 'crime': 405,\n",
       " 'arm': 406,\n",
       " 'agree': 407,\n",
       " 'assault': 408,\n",
       " 'shut': 409,\n",
       " 'action': 410,\n",
       " 'wow': 411,\n",
       " 'message': 412,\n",
       " 'decision': 413,\n",
       " 'ready': 414,\n",
       " 'veteran': 415,\n",
       " 'confirm': 416,\n",
       " 'reject': 417,\n",
       " 'good': 418,\n",
       " 'nation': 419,\n",
       " 'activist': 420,\n",
       " 'bring': 421,\n",
       " 'peace': 422,\n",
       " 'feed': 423,\n",
       " 'vow': 424,\n",
       " 'ever': 425,\n",
       " 'battle': 426,\n",
       " 'play': 427,\n",
       " 'challenge': 428,\n",
       " 'la': 429,\n",
       " 'best': 430,\n",
       " 'social': 431,\n",
       " 'effort': 432,\n",
       " 'part': 433,\n",
       " 'kid': 434,\n",
       " 'concern': 435,\n",
       " 'three': 436,\n",
       " 'rise': 437,\n",
       " 'expect': 438,\n",
       " 'matter': 439,\n",
       " 'coalition': 440,\n",
       " 'sex': 441,\n",
       " 'huge': 442,\n",
       " 'history': 443,\n",
       " 'puerto': 444,\n",
       " 'care': 445,\n",
       " 'korean': 446,\n",
       " 'love': 447,\n",
       " 'legal': 448,\n",
       " 'gay': 449,\n",
       " 'point': 450,\n",
       " 'paris': 451,\n",
       " 'iraqi': 452,\n",
       " 'list': 453,\n",
       " 'unite': 454,\n",
       " 'consider': 455,\n",
       " 'join': 456,\n",
       " 'philippine': 457,\n",
       " 'full': 458,\n",
       " 'bad': 459,\n",
       " 'drug': 460,\n",
       " 'photo': 461,\n",
       " 'merkel': 462,\n",
       " 'george': 463,\n",
       " 'sue': 464,\n",
       " 'french': 465,\n",
       " 'miss': 466,\n",
       " 'global': 467,\n",
       " 'flag': 468,\n",
       " 'officer': 469,\n",
       " 'mock': 470,\n",
       " 'hilarious': 471,\n",
       " 'fan': 472,\n",
       " 'future': 473,\n",
       " 'line': 474,\n",
       " 'ally': 475,\n",
       " 'rico': 476,\n",
       " 'son': 477,\n",
       " 'steal': 478,\n",
       " 'london': 479,\n",
       " 'alien': 480,\n",
       " 'intelligence': 481,\n",
       " 'possible': 482,\n",
       " 'endorse': 483,\n",
       " 'game': 484,\n",
       " 'british': 485,\n",
       " 'despite': 486,\n",
       " 'month': 487,\n",
       " 'promise': 488,\n",
       " 'word': 489,\n",
       " 'repeal': 490,\n",
       " 'executive': 491,\n",
       " 'statement': 492,\n",
       " 'explain': 493,\n",
       " 'spy': 494,\n",
       " 'rep': 495,\n",
       " 'approve': 496,\n",
       " 'resign': 497,\n",
       " 'eye': 498,\n",
       " 'continue': 499,\n",
       " 'bust': 500,\n",
       " 'die': 501,\n",
       " 'likely': 502,\n",
       " 'rubio': 503,\n",
       " 'deny': 504,\n",
       " 'service': 505,\n",
       " 'discus': 506,\n",
       " 'troop': 507,\n",
       " 'car': 508,\n",
       " 'politics': 509,\n",
       " 'away': 510,\n",
       " 'journalist': 511,\n",
       " 'human': 512,\n",
       " 'link': 513,\n",
       " 'save': 514,\n",
       " 'beat': 515,\n",
       " 'company': 516,\n",
       " 'rip': 517,\n",
       " 'catalan': 518,\n",
       " 'throw': 519,\n",
       " 'today': 520,\n",
       " 'prepare': 521,\n",
       " 'protect': 522,\n",
       " 'special': 523,\n",
       " 'begin': 524,\n",
       " 'room': 525,\n",
       " 'mccain': 526,\n",
       " 'market': 527,\n",
       " 'humiliate': 528,\n",
       " 'nato': 529,\n",
       " 'europe': 530,\n",
       " 'parliament': 531,\n",
       " 'internet': 532,\n",
       " 'without': 533,\n",
       " 'night': 534,\n",
       " 'chair': 535,\n",
       " 'wife': 536,\n",
       " 'march': 537,\n",
       " 'dy': 538,\n",
       " 'oil': 539,\n",
       " 'mike': 540,\n",
       " 'pope': 541,\n",
       " 'hollywood': 542,\n",
       " 'leftist': 543,\n",
       " 'macron': 544,\n",
       " 'declare': 545,\n",
       " 'didnt': 546,\n",
       " 'four': 547,\n",
       " 'town': 548,\n",
       " 'kelly': 549,\n",
       " 'appeal': 550,\n",
       " 'second': 551,\n",
       " 'abortion': 552,\n",
       " 'letter': 553,\n",
       " 'evidence': 554,\n",
       " 'rape': 555,\n",
       " 'dnc': 556,\n",
       " 'rohingya': 557,\n",
       " 'inauguration': 558,\n",
       " 'men': 559,\n",
       " 'view': 560,\n",
       " 'final': 561,\n",
       " 'militant': 562,\n",
       " 'pressure': 563,\n",
       " 'sexual': 564,\n",
       " 'bombshell': 565,\n",
       " 'system': 566,\n",
       " 'weapon': 567,\n",
       " 'food': 568,\n",
       " 'sell': 569,\n",
       " 'king': 570,\n",
       " 'turkish': 571,\n",
       " 'cuba': 572,\n",
       " 'chicago': 573,\n",
       " 'independence': 574,\n",
       " 'nfl': 575,\n",
       " 'agent': 576,\n",
       " 'yemen': 577,\n",
       " 'pass': 578,\n",
       " 'program': 579,\n",
       " 'hell': 580,\n",
       " 'economic': 581,\n",
       " 'daily': 582,\n",
       " 'soldier': 583,\n",
       " 'every': 584,\n",
       " 'cia': 585,\n",
       " 'much': 586,\n",
       " 'venezuela': 587,\n",
       " 'trip': 588,\n",
       " 'prison': 589,\n",
       " 'aim': 590,\n",
       " 'fall': 591,\n",
       " 'cause': 592,\n",
       " 'many': 593,\n",
       " 'im': 594,\n",
       " 'yet': 595,\n",
       " 'transgender': 596,\n",
       " 'role': 597,\n",
       " 'zimbabwe': 598,\n",
       " 'chinese': 599,\n",
       " 'foundation': 600,\n",
       " 'stun': 601,\n",
       " 'terrorism': 602,\n",
       " 'economy': 603,\n",
       " 'sean': 604,\n",
       " 'least': 605,\n",
       " 'joe': 606,\n",
       " 'convention': 607,\n",
       " 'civil': 608,\n",
       " 'remove': 609,\n",
       " 'propose': 610,\n",
       " 'canada': 611,\n",
       " 'blow': 612,\n",
       " 'middle': 613,\n",
       " 'young': 614,\n",
       " 'hurricane': 615,\n",
       " 'thousand': 616,\n",
       " 'reach': 617,\n",
       " 'prosecutor': 618,\n",
       " 'corruption': 619,\n",
       " 'problem': 620,\n",
       " 'michael': 621,\n",
       " 'flynn': 622,\n",
       " 'sentence': 623,\n",
       " 'wrong': 624,\n",
       " 'carolina': 625,\n",
       " 'mexican': 626,\n",
       " 'union': 627,\n",
       " 'university': 628,\n",
       " 'attempt': 629,\n",
       " 'dem': 630,\n",
       " 'committee': 631,\n",
       " 'audio': 632,\n",
       " 'ceo': 633,\n",
       " 'answer': 634,\n",
       " 'mark': 635,\n",
       " 'event': 636,\n",
       " 'massive': 637,\n",
       " 'jam': 638,\n",
       " 'believe': 639,\n",
       " 'rig': 640,\n",
       " 'expert': 641,\n",
       " 'crash': 642,\n",
       " 'mean': 643,\n",
       " 'prof': 644,\n",
       " 'cancel': 645,\n",
       " 'east': 646,\n",
       " 'arabia': 647,\n",
       " 'congressman': 648,\n",
       " 'burn': 649,\n",
       " 'delay': 650,\n",
       " 'surprise': 651,\n",
       " 'warren': 652,\n",
       " 'trial': 653,\n",
       " 'west': 654,\n",
       " 'palestinian': 655,\n",
       " 'stay': 656,\n",
       " 'debt': 657,\n",
       " 'access': 658,\n",
       " 'investigate': 659,\n",
       " 'book': 660,\n",
       " 'citizen': 661,\n",
       " 'egypt': 662,\n",
       " 'ukraine': 663,\n",
       " 'pentagon': 664,\n",
       " 'risk': 665,\n",
       " 'number': 666,\n",
       " 'avoid': 667,\n",
       " 'respond': 668,\n",
       " 'erdogan': 669,\n",
       " 'biden': 670,\n",
       " 'body': 671,\n",
       " 'create': 672,\n",
       " 'boy': 673,\n",
       " 'india': 674,\n",
       " 'place': 675,\n",
       " 'document': 676,\n",
       " 'sarah': 677,\n",
       " 'firm': 678,\n",
       " 'hide': 679,\n",
       " 'quit': 680,\n",
       " 'spain': 681,\n",
       " 'senior': 682,\n",
       " 'lawsuit': 683,\n",
       " 'elect': 684,\n",
       " 'crowd': 685,\n",
       " 'percent': 686,\n",
       " 'share': 687,\n",
       " 'ambassador': 688,\n",
       " 'five': 689,\n",
       " 'criminal': 690,\n",
       " 'doj': 691,\n",
       " 'grow': 692,\n",
       " 'finally': 693,\n",
       " 'rock': 694,\n",
       " 'friend': 695,\n",
       " 'kremlin': 696,\n",
       " 'follow': 697,\n",
       " 'clear': 698,\n",
       " 'cabinet': 699,\n",
       " 'camp': 700,\n",
       " 'pull': 701,\n",
       " 'johnson': 702,\n",
       " 'hard': 703,\n",
       " 'dems': 704,\n",
       " 'chris': 705,\n",
       " 'better': 706,\n",
       " 'fact': 707,\n",
       " 'church': 708,\n",
       " 'boom': 709,\n",
       " 'owner': 710,\n",
       " 'little': 711,\n",
       " 'kurdish': 712,\n",
       " 'cost': 713,\n",
       " 'epa': 714,\n",
       " 'price': 715,\n",
       " 'replace': 716,\n",
       " 'long': 717,\n",
       " 'youre': 718,\n",
       " 'al': 719,\n",
       " 'abuse': 720,\n",
       " 'female': 721,\n",
       " 'early': 722,\n",
       " 'buy': 723,\n",
       " 'deliver': 724,\n",
       " 'baby': 725,\n",
       " 'v': 726,\n",
       " 'africa': 727,\n",
       " 'lebanon': 728,\n",
       " 'italy': 729,\n",
       " 'israeli': 730,\n",
       " 'envoy': 731,\n",
       " 'cover': 732,\n",
       " 'inside': 733,\n",
       " 'praise': 734,\n",
       " 'around': 735,\n",
       " 'gold': 736,\n",
       " 'train': 737,\n",
       " 'worry': 738,\n",
       " 'check': 739,\n",
       " 'detain': 740,\n",
       " 'since': 741,\n",
       " 'defeat': 742,\n",
       " 'mcconnell': 743,\n",
       " 'spicer': 744,\n",
       " 'mass': 745,\n",
       " 'primary': 746,\n",
       " 'remain': 747,\n",
       " 'perfect': 748,\n",
       " 'friday': 749,\n",
       " 'interest': 750,\n",
       " 'oppose': 751,\n",
       " 'limit': 752,\n",
       " 'mother': 753,\n",
       " 'michelle': 754,\n",
       " 'result': 755,\n",
       " 'megyn': 756,\n",
       " 'brutal': 757,\n",
       " 'benghazi': 758,\n",
       " 'tuesday': 759,\n",
       " 'leaf': 760,\n",
       " 'moore': 761,\n",
       " 'usa': 762,\n",
       " 'ny': 763,\n",
       " 'pipeline': 764,\n",
       " 'private': 765,\n",
       " 'melania': 766,\n",
       " 'read': 767,\n",
       " 'wear': 768,\n",
       " 'daughter': 769,\n",
       " 'file': 770,\n",
       " 'prove': 771,\n",
       " 'hour': 772,\n",
       " 'rebel': 773,\n",
       " 'freedom': 774,\n",
       " 'drive': 775,\n",
       " 'energy': 776,\n",
       " 'epic': 777,\n",
       " 'well': 778,\n",
       " 'dangerous': 779,\n",
       " 'suspend': 780,\n",
       " 'study': 781,\n",
       " 'choice': 782,\n",
       " 'dc': 783,\n",
       " 'aleppo': 784,\n",
       " 'iowa': 785,\n",
       " 'michigan': 786,\n",
       " 'welcome': 787,\n",
       " 'jr': 788,\n",
       " 'carson': 789,\n",
       " 'xi': 790,\n",
       " 'pledge': 791,\n",
       " 'accept': 792,\n",
       " 'soon': 793,\n",
       " 'msnbc': 794,\n",
       " 'flight': 795,\n",
       " 'kick': 796,\n",
       " 'might': 797,\n",
       " 'kellyanne': 798,\n",
       " 'conway': 799,\n",
       " 'focus': 800,\n",
       " 'far': 801,\n",
       " 'staff': 802,\n",
       " 'ignore': 803,\n",
       " 'clash': 804,\n",
       " 'thank': 805,\n",
       " 'afghanistan': 806,\n",
       " 'nomination': 807,\n",
       " 'violent': 808,\n",
       " 'already': 809,\n",
       " 'airport': 810,\n",
       " 'donor': 811,\n",
       " 'brazil': 812,\n",
       " 'hilariously': 813,\n",
       " 'feel': 814,\n",
       " 'land': 815,\n",
       " 'boost': 816,\n",
       " 'spokesman': 817,\n",
       " 'us': 818,\n",
       " 'hire': 819,\n",
       " 'include': 820,\n",
       " 'something': 821,\n",
       " 'address': 822,\n",
       " 'mosul': 823,\n",
       " 'tear': 824,\n",
       " 'red': 825,\n",
       " 'soros': 826,\n",
       " 'criticize': 827,\n",
       " 'ivanka': 828,\n",
       " 'radical': 829,\n",
       " 'information': 830,\n",
       " 'commit': 831,\n",
       " 'guy': 832,\n",
       " 'troll': 833,\n",
       " 'base': 834,\n",
       " 'powerful': 835,\n",
       " 'angry': 836,\n",
       " 'dispute': 837,\n",
       " 'vp': 838,\n",
       " 'stage': 839,\n",
       " 'moment': 840,\n",
       " 'afghan': 841,\n",
       " 'condemn': 842,\n",
       " 'parenthood': 843,\n",
       " 'request': 844,\n",
       " 'search': 845,\n",
       " 'th': 846,\n",
       " 'financial': 847,\n",
       " 'le': 848,\n",
       " 'employee': 849,\n",
       " 'rant': 850,\n",
       " 'disgust': 851,\n",
       " 'term': 852,\n",
       " 'draw': 853,\n",
       " 'worse': 854,\n",
       " 'super': 855,\n",
       " 'biggest': 856,\n",
       " 'elizabeth': 857,\n",
       " 'teen': 858,\n",
       " 'network': 859,\n",
       " 'racism': 860,\n",
       " 'navy': 861,\n",
       " 'receive': 862,\n",
       " 'ben': 863,\n",
       " 'remark': 864,\n",
       " 'yr': 865,\n",
       " 'add': 866,\n",
       " 'teacher': 867,\n",
       " 'pakistan': 868,\n",
       " 'sale': 869,\n",
       " 'cancer': 870,\n",
       " 'bathroom': 871,\n",
       " 'bannon': 872,\n",
       " 'catalonia': 873,\n",
       " 'australia': 874,\n",
       " 'celebrate': 875,\n",
       " 'pelosi': 876,\n",
       " 'christie': 877,\n",
       " 'finance': 878,\n",
       " 'transition': 879,\n",
       " 'council': 880,\n",
       " 'labor': 881,\n",
       " 'cite': 882,\n",
       " 'actually': 883,\n",
       " 'fck': 884,\n",
       " 'theyre': 885,\n",
       " 'laugh': 886,\n",
       " 'hurt': 887,\n",
       " 'summit': 888,\n",
       " 'steve': 889,\n",
       " 'manager': 890,\n",
       " 'appear': 891,\n",
       " 'weigh': 892,\n",
       " 'agenda': 893,\n",
       " 'oregon': 894,\n",
       " 'isnt': 895,\n",
       " 'visa': 896,\n",
       " 'worst': 897,\n",
       " 'increase': 898,\n",
       " 'class': 899,\n",
       " 'virginia': 900,\n",
       " 'account': 901,\n",
       " 'nothing': 902,\n",
       " 'suggest': 903,\n",
       " 'green': 904,\n",
       " 'riot': 905,\n",
       " 'orlando': 906,\n",
       " 'critic': 907,\n",
       " 'capital': 908,\n",
       " 'moscow': 909,\n",
       " 'walk': 910,\n",
       " 'congressional': 911,\n",
       " 'embassy': 912,\n",
       " 'six': 913,\n",
       " 'crazy': 914,\n",
       " 'light': 915,\n",
       " 'robert': 916,\n",
       " 'prince': 917,\n",
       " 'decide': 918,\n",
       " 'community': 919,\n",
       " 'sick': 920,\n",
       " 'dollar': 921,\n",
       " 'nyc': 922,\n",
       " 'guilty': 923,\n",
       " 'write': 924,\n",
       " 'netanyahu': 925,\n",
       " 'picture': 926,\n",
       " 'side': 927,\n",
       " 'intel': 928,\n",
       " 'reopen': 929,\n",
       " 'player': 930,\n",
       " 'father': 931,\n",
       " 'machine': 932,\n",
       " 'referendum': 933,\n",
       " 'sea': 934,\n",
       " 'morning': 935,\n",
       " 'criticism': 936,\n",
       " 'taxpayer': 937,\n",
       " 'project': 938,\n",
       " 'tension': 939,\n",
       " 'whine': 940,\n",
       " 'yearold': 941,\n",
       " 'rate': 942,\n",
       " 'chairman': 943,\n",
       " 'ohio': 944,\n",
       " 'allegation': 945,\n",
       " 'palin': 946,\n",
       " 'alabama': 947,\n",
       " 'data': 948,\n",
       " 'shes': 949,\n",
       " 'zika': 950,\n",
       " 'irma': 951,\n",
       " 'dakota': 952,\n",
       " 'christmas': 953,\n",
       " 'embarrass': 954,\n",
       " 'brilliant': 955,\n",
       " 'jeb': 956,\n",
       " 'plane': 957,\n",
       " 'conspiracy': 958,\n",
       " 'gas': 959,\n",
       " 'central': 960,\n",
       " 'parent': 961,\n",
       " 'loss': 962,\n",
       " 'diplomat': 963,\n",
       " 'rap': 964,\n",
       " 'gain': 965,\n",
       " 'plot': 966,\n",
       " 'deep': 967,\n",
       " 'vet': 968,\n",
       " 'african': 969,\n",
       " 'potential': 970,\n",
       " 'damage': 971,\n",
       " 'scott': 972,\n",
       " 'phone': 973,\n",
       " 'google': 974,\n",
       " 'thursday': 975,\n",
       " 'fix': 976,\n",
       " 'shift': 977,\n",
       " 'carry': 978,\n",
       " 'marriage': 979,\n",
       " 'collapse': 980,\n",
       " 'cyber': 981,\n",
       " 'conference': 982,\n",
       " 'billionaire': 983,\n",
       " 'civilian': 984,\n",
       " 'sheriff': 985,\n",
       " 'brother': 986,\n",
       " 'november': 987,\n",
       " 'everyone': 988,\n",
       " 'testify': 989,\n",
       " 'stupid': 990,\n",
       " 'deputy': 991,\n",
       " 'pas': 992,\n",
       " 'mind': 993,\n",
       " 'lol': 994,\n",
       " 'chance': 995,\n",
       " 'david': 996,\n",
       " 'struggle': 997,\n",
       " 'enter': 998,\n",
       " 'cross': 999,\n",
       " 'forget': 1000,\n",
       " ...}"
      ]
     },
     "execution_count": 37,
     "metadata": {},
     "output_type": "execute_result"
    }
   ],
   "source": [
    "# build vocab using keras.tokenizer with mode freq\n",
    "from tensorflow.keras.preprocessing.text import Tokenizer\n",
    "\n",
    "vocab_sz=10000\n",
    "tok=Tokenizer(num_words=vocab_sz,oov_token=\"UNK\")\n",
    "tok.fit_on_texts(trn_texts+tst_texts)\n",
    "\n",
    "tok.word_index"
   ]
  },
  {
   "cell_type": "code",
   "execution_count": 38,
   "id": "df155363-fd9e-4e75-aeb1-5bce70db1009",
   "metadata": {},
   "outputs": [
    {
     "data": {
      "text/plain": [
       "[1827, 41, 8, 547, 77, 35, 304, 5718, 1086, 156, 267]"
      ]
     },
     "execution_count": 38,
     "metadata": {},
     "output_type": "execute_result"
    }
   ],
   "source": [
    "# Convert text to sequences\n",
    "x_train_seq = tok.texts_to_sequences(trn_texts)\n",
    "x_test_seq = tok.texts_to_sequences(tst_texts)\n",
    "\n",
    "x_train_seq[0]"
   ]
  },
  {
   "cell_type": "code",
   "execution_count": 39,
   "id": "be292490-ace6-4c5b-8a92-dfab5b04c3ed",
   "metadata": {},
   "outputs": [
    {
     "data": {
      "text/plain": [
       "array([1827,   41,    8,  547,   77,   35,  304, 5718, 1086,  156,  267,\n",
       "          0,    0,    0,    0,    0,    0,    0,    0,    0,    0,    0,\n",
       "          0,    0,    0,    0,    0,    0,    0,    0,    0,    0,    0,\n",
       "          0,    0,    0,    0,    0,    0,    0,    0,    0,    0,    0,\n",
       "          0,    0,    0,    0,    0,    0])"
      ]
     },
     "execution_count": 39,
     "metadata": {},
     "output_type": "execute_result"
    }
   ],
   "source": [
    "max_length=50\n",
    "\n",
    "x_train = pad_sequences(x_train_seq, maxlen=max_length, padding='post')\n",
    "x_test = pad_sequences(x_test_seq, maxlen=max_length, padding='post')\n",
    "\n",
    "x_train[0]"
   ]
  },
  {
   "cell_type": "code",
   "execution_count": 40,
   "id": "b9dce9d3-5cb4-4ccd-a426-f889e72a0290",
   "metadata": {},
   "outputs": [
    {
     "name": "stdout",
     "output_type": "stream",
     "text": [
      "(43645, 50)\n",
      "(43645,)\n",
      "(18706, 50)\n",
      "(18706,)\n"
     ]
    }
   ],
   "source": [
    "print (x_train.shape)\n",
    "print (y_train.shape)\n",
    "print (x_test.shape)\n",
    "print (y_test.shape)"
   ]
  },
  {
   "cell_type": "code",
   "execution_count": 44,
   "id": "2619d80c-fa80-45d1-9f9b-a4ab567049dc",
   "metadata": {},
   "outputs": [],
   "source": [
    "l2_reg = 0.1\n",
    "n_latent_factors = 50\n",
    "\n",
    "emb_e2e_task_model = Sequential()\n",
    "emb_e2e_task_model.add(Embedding(vocab_sz + 1, n_latent_factors, input_length=max_length))\n",
    "emb_e2e_task_model.add(Flatten())  # Flatten the output to (batch_size, 50*25=1250)\n",
    "emb_e2e_task_model.add(Dense(n_latent_factors, activation='relu',kernel_regularizer=l2(l2_reg)))\n",
    "emb_e2e_task_model.add(Dropout(0.5))\n",
    "emb_e2e_task_model.add(Dense(256, activation='relu',kernel_regularizer=l2(l2_reg)))\n",
    "emb_e2e_task_model.add(Dense(2, activation='softmax'))"
   ]
  },
  {
   "cell_type": "code",
   "execution_count": 42,
   "id": "cb1f9840-c2f6-4399-91dc-c7783f48eeb8",
   "metadata": {},
   "outputs": [],
   "source": [
    "y_train = to_categorical(y_train, num_classes=2)\n",
    "y_test = to_categorical(y_test, num_classes=2)"
   ]
  },
  {
   "cell_type": "code",
   "execution_count": 45,
   "id": "c8d0b642-7314-44f1-9134-af2909960f23",
   "metadata": {},
   "outputs": [
    {
     "name": "stdout",
     "output_type": "stream",
     "text": [
      "Epoch 1/100\n",
      "\u001b[1m171/171\u001b[0m \u001b[32m━━━━━━━━━━━━━━━━━━━━\u001b[0m\u001b[37m\u001b[0m \u001b[1m4s\u001b[0m 13ms/step - accuracy: 0.5900 - loss: 7.2169 - val_accuracy: 0.8739 - val_loss: 0.5020\n",
      "Epoch 2/100\n",
      "\u001b[1m171/171\u001b[0m \u001b[32m━━━━━━━━━━━━━━━━━━━━\u001b[0m\u001b[37m\u001b[0m \u001b[1m2s\u001b[0m 12ms/step - accuracy: 0.8723 - loss: 0.4523 - val_accuracy: 0.8904 - val_loss: 0.3619\n",
      "Epoch 3/100\n",
      "\u001b[1m171/171\u001b[0m \u001b[32m━━━━━━━━━━━━━━━━━━━━\u001b[0m\u001b[37m\u001b[0m \u001b[1m2s\u001b[0m 12ms/step - accuracy: 0.9040 - loss: 0.3441 - val_accuracy: 0.8962 - val_loss: 0.3398\n",
      "Epoch 4/100\n",
      "\u001b[1m171/171\u001b[0m \u001b[32m━━━━━━━━━━━━━━━━━━━━\u001b[0m\u001b[37m\u001b[0m \u001b[1m2s\u001b[0m 11ms/step - accuracy: 0.9203 - loss: 0.3083 - val_accuracy: 0.8940 - val_loss: 0.3306\n",
      "Epoch 5/100\n",
      "\u001b[1m171/171\u001b[0m \u001b[32m━━━━━━━━━━━━━━━━━━━━\u001b[0m\u001b[37m\u001b[0m \u001b[1m2s\u001b[0m 11ms/step - accuracy: 0.9317 - loss: 0.2796 - val_accuracy: 0.9000 - val_loss: 0.3146\n",
      "Epoch 6/100\n",
      "\u001b[1m171/171\u001b[0m \u001b[32m━━━━━━━━━━━━━━━━━━━━\u001b[0m\u001b[37m\u001b[0m \u001b[1m2s\u001b[0m 12ms/step - accuracy: 0.9403 - loss: 0.2555 - val_accuracy: 0.8994 - val_loss: 0.3145\n",
      "Epoch 7/100\n",
      "\u001b[1m171/171\u001b[0m \u001b[32m━━━━━━━━━━━━━━━━━━━━\u001b[0m\u001b[37m\u001b[0m \u001b[1m2s\u001b[0m 12ms/step - accuracy: 0.9458 - loss: 0.2396 - val_accuracy: 0.8990 - val_loss: 0.3179\n",
      "Epoch 8/100\n",
      "\u001b[1m171/171\u001b[0m \u001b[32m━━━━━━━━━━━━━━━━━━━━\u001b[0m\u001b[37m\u001b[0m \u001b[1m2s\u001b[0m 12ms/step - accuracy: 0.9539 - loss: 0.2241 - val_accuracy: 0.8995 - val_loss: 0.3236\n",
      "Epoch 9/100\n",
      "\u001b[1m171/171\u001b[0m \u001b[32m━━━━━━━━━━━━━━━━━━━━\u001b[0m\u001b[37m\u001b[0m \u001b[1m2s\u001b[0m 12ms/step - accuracy: 0.9600 - loss: 0.2078 - val_accuracy: 0.8986 - val_loss: 0.3254\n",
      "Epoch 10/100\n",
      "\u001b[1m171/171\u001b[0m \u001b[32m━━━━━━━━━━━━━━━━━━━━\u001b[0m\u001b[37m\u001b[0m \u001b[1m2s\u001b[0m 13ms/step - accuracy: 0.9633 - loss: 0.1973 - val_accuracy: 0.8963 - val_loss: 0.3321\n",
      "Epoch 11/100\n",
      "\u001b[1m171/171\u001b[0m \u001b[32m━━━━━━━━━━━━━━━━━━━━\u001b[0m\u001b[37m\u001b[0m \u001b[1m2s\u001b[0m 12ms/step - accuracy: 0.9675 - loss: 0.1890 - val_accuracy: 0.8956 - val_loss: 0.3467\n"
     ]
    }
   ],
   "source": [
    "emb_e2e_task_model.compile(optimizer='adam', loss='categorical_crossentropy', metrics=['accuracy'])\n",
    "early_stopping = EarlyStopping(monitor='val_loss', patience=5, restore_best_weights=True)\n",
    "history =emb_e2e_task_model.fit(x_train, y_train, validation_data=(x_test, y_test), batch_size=256, epochs=100,callbacks=early_stopping)"
   ]
  },
  {
   "cell_type": "markdown",
   "id": "e1e6c611-43f4-4de0-a26b-a2ed598eae95",
   "metadata": {},
   "source": [
    "#### Model Evaluation"
   ]
  },
  {
   "cell_type": "code",
   "execution_count": 46,
   "id": "145ab3cf-d9b3-4f8b-9468-9afac7ad30d8",
   "metadata": {},
   "outputs": [
    {
     "data": {
      "image/png": "[encoded data removed]",
      "text/plain": [
       "<Figure size 640x480 with 1 Axes>"
      ]
     },
     "metadata": {},
     "output_type": "display_data"
    }
   ],
   "source": [
    "plt.plot(history.history['loss'])\n",
    "plt.plot(history.history['val_loss'])\n",
    "plt.xlabel('epochs')\n",
    "plt.ylabel('loss')\n",
    "plt.legend(['loss','val_loss'])\n",
    "plt.title(\"Word Embedding END to End task loss VS val_loss\",fontweight=\"bold\")\n",
    "plt.show()"
   ]
  },
  {
   "cell_type": "code",
   "execution_count": 47,
   "id": "ab060059-bd6a-4dce-865f-1f988ab8afb1",
   "metadata": {},
   "outputs": [
    {
     "data": {
      "image/png": "[encoded data removed]",
      "text/plain": [
       "<Figure size 640x480 with 1 Axes>"
      ]
     },
     "metadata": {},
     "output_type": "display_data"
    }
   ],
   "source": [
    "plt.plot(history.history['accuracy'])\n",
    "plt.plot(history.history['val_accuracy'])\n",
    "plt.xlabel('epochs')\n",
    "plt.ylabel('accuracy')\n",
    "plt.legend(['accuracy','val_accuracy'])\n",
    "plt.title(\"Word Embedding END to End task accuracy VS val_accuracy\",fontweight=\"bold\")\n",
    "plt.show()"
   ]
  },
  {
   "cell_type": "code",
   "execution_count": 48,
   "id": "2379b930-480b-48b2-96f1-996d2b82a832",
   "metadata": {},
   "outputs": [
    {
     "name": "stdout",
     "output_type": "stream",
     "text": [
      "Train Accuracy: 0.95\n",
      "Test Accuracy: 0.90\n"
     ]
    }
   ],
   "source": [
    "loss, accuracy = emb_e2e_task_model.evaluate(x_train, y_train, verbose=0)\n",
    "print(f\"Train Accuracy: {accuracy:.2f}\")\n",
    "\n",
    "loss, accuracy = emb_e2e_task_model.evaluate(x_test, y_test, verbose=0)\n",
    "print(f\"Test Accuracy: {accuracy:.2f}\")"
   ]
  },
  {
   "cell_type": "code",
   "execution_count": 49,
   "id": "74f11812-a7e4-4d2c-b3c9-2888a39c320b",
   "metadata": {},
   "outputs": [
    {
     "name": "stdout",
     "output_type": "stream",
     "text": [
      "\u001b[1m585/585\u001b[0m \u001b[32m━━━━━━━━━━━━━━━━━━━━\u001b[0m\u001b[37m\u001b[0m \u001b[1m1s\u001b[0m 1ms/step\n"
     ]
    }
   ],
   "source": [
    "y_pred_probs = emb_e2e_task_model.predict(x_test)\n",
    "y_pred = np.argmax(y_pred_probs, axis=1)\n",
    "y_test = np.argmax(y_test, axis=1)\n",
    "conf_matrix = confusion_matrix(y_test, y_pred)"
   ]
  },
  {
   "cell_type": "code",
   "execution_count": 50,
   "id": "325fdb07-c094-4ae5-8db0-d8c49dbe30de",
   "metadata": {},
   "outputs": [
    {
     "data": {
      "image/png": "[encoded data removed]",
      "text/plain": [
       "<Figure size 800x600 with 2 Axes>"
      ]
     },
     "metadata": {},
     "output_type": "display_data"
    }
   ],
   "source": [
    "plt.figure(figsize=(8,6))\n",
    "sns.heatmap(conf_matrix, annot=True, fmt='d', cmap='Blues', xticklabels=[0, 1], yticklabels=[0, 1])\n",
    "plt.xlabel('Predicted Label')\n",
    "plt.ylabel('True Label')\n",
    "plt.title('Confusion Matrix')\n",
    "plt.show()"
   ]
  },
  {
   "cell_type": "code",
   "execution_count": 51,
   "id": "8cd1e16a-c4ac-4dae-b3ad-511fea022ccc",
   "metadata": {},
   "outputs": [
    {
     "name": "stdout",
     "output_type": "stream",
     "text": [
      "Classification Report:\n",
      "              precision    recall  f1-score   support\n",
      "\n",
      "     Class 0       0.92      0.90      0.91     10315\n",
      "     Class 1       0.88      0.90      0.89      8391\n",
      "\n",
      "    accuracy                           0.90     18706\n",
      "   macro avg       0.90      0.90      0.90     18706\n",
      "weighted avg       0.90      0.90      0.90     18706\n",
      "\n"
     ]
    }
   ],
   "source": [
    "# Classification report\n",
    "class_report = classification_report(y_test, y_pred, target_names=['Class 0', 'Class 1'])\n",
    "print(\"Classification Report:\")\n",
    "print(class_report)"
   ]
  },
  {
   "cell_type": "markdown",
   "id": "f9aa34e5-cc0e-4a10-868d-05ba2fa02840",
   "metadata": {},
   "source": [
    "#### b- Using gensim Word2Vec"
   ]
  },
  {
   "cell_type": "code",
   "execution_count": 183,
   "id": "1902dd3c-3ca0-422d-9eec-f46481eab602",
   "metadata": {},
   "outputs": [
    {
     "name": "stdout",
     "output_type": "stream",
     "text": [
      "(43645,)\n",
      "(43645,)\n",
      "(18706,)\n",
      "(18706,)\n"
     ]
    }
   ],
   "source": [
    "# Split the data\n",
    "x_train, x_test, y_train, y_test = train_test_split(df.title, df.label, test_size=0.3, random_state=42)\n",
    "\n",
    "\n",
    "print (x_train.shape)\n",
    "print (y_train.shape)\n",
    "print (x_test.shape)\n",
    "\n",
    "print (y_test.shape)"
   ]
  },
  {
   "cell_type": "code",
   "execution_count": 184,
   "id": "998756c0-f7fb-4750-aa21-45d86e877953",
   "metadata": {},
   "outputs": [
    {
     "data": {
      "text/plain": [
       "'kenyan police say four people kill opposition demonstration past two week'"
      ]
     },
     "execution_count": 184,
     "metadata": {},
     "output_type": "execute_result"
    }
   ],
   "source": [
    "trn_texts=normalize_corpus(x_train)\n",
    "tst_texts=normalize_corpus(x_test)\n",
    "trn_texts[0]"
   ]
  },
  {
   "cell_type": "code",
   "execution_count": 185,
   "id": "e1128c25-0a88-4daa-aa2c-74a7ae122408",
   "metadata": {},
   "outputs": [],
   "source": [
    "# Tokenize the text data\n",
    "from tensorflow.keras.preprocessing.text import Tokenizer\n",
    "\n",
    "vocab_sz = 10000\n",
    "tok = Tokenizer(num_words=vocab_sz, oov_token=\"UNK\")\n",
    "tok.fit_on_texts(trn_texts + tst_texts)\n",
    "\n",
    "# Convert text to sequences\n",
    "x_train = tok.texts_to_sequences(trn_texts)\n",
    "x_test = tok.texts_to_sequences(tst_texts)"
   ]
  },
  {
   "cell_type": "code",
   "execution_count": 186,
   "id": "866856ec-29c8-4a60-afdc-815e2e56d71d",
   "metadata": {},
   "outputs": [
    {
     "data": {
      "text/plain": [
       "[1827, 41, 8, 547, 77, 35, 304, 5718, 1086, 156, 267]"
      ]
     },
     "execution_count": 186,
     "metadata": {},
     "output_type": "execute_result"
    }
   ],
   "source": [
    "x_train[0]"
   ]
  },
  {
   "cell_type": "code",
   "execution_count": 187,
   "id": "dbd8447f-28ce-48e1-9057-3707dd835b59",
   "metadata": {},
   "outputs": [],
   "source": [
    "# Pad the sequences to a fixed length\n",
    "from tensorflow.keras.preprocessing.sequence import pad_sequences\n",
    "\n",
    "max_length = 50\n",
    "x_train = pad_sequences(x_train, maxlen=max_length, padding='post')\n",
    "x_test = pad_sequences(x_test, maxlen=max_length, padding='post')"
   ]
  },
  {
   "cell_type": "code",
   "execution_count": 188,
   "id": "a5a4d6ea-b371-4757-9fcd-4cb478ea1f2a",
   "metadata": {},
   "outputs": [
    {
     "data": {
      "text/plain": [
       "array([1827,   41,    8,  547,   77,   35,  304, 5718, 1086,  156,  267,\n",
       "          0,    0,    0,    0,    0,    0,    0,    0,    0,    0,    0,\n",
       "          0,    0,    0,    0,    0,    0,    0,    0,    0,    0,    0,\n",
       "          0,    0,    0,    0,    0,    0,    0,    0,    0,    0,    0,\n",
       "          0,    0,    0,    0,    0,    0])"
      ]
     },
     "execution_count": 188,
     "metadata": {},
     "output_type": "execute_result"
    }
   ],
   "source": [
    "x_train[0]"
   ]
  },
  {
   "cell_type": "code",
   "execution_count": 189,
   "id": "996f617f-b5f1-4985-8389-7e5c14c42da5",
   "metadata": {},
   "outputs": [],
   "source": [
    "# Train the Word2Vec model\n",
    "from gensim.models import Word2Vec\n",
    "\n",
    "# Train the Word2Vec model\n",
    "tokenized_sentences = [text.split() for text in trn_texts + tst_texts]\n",
    "w2v_model = Word2Vec(tokenized_sentences, vector_size=50, window=5, min_count=4)"
   ]
  },
  {
   "cell_type": "code",
   "execution_count": 190,
   "id": "c63abbc6-6be1-449c-bd94-f86b0c0778a4",
   "metadata": {},
   "outputs": [],
   "source": [
    "# Create a weight matrix for the embedding layer\n",
    "embedding_matrix = np.zeros((vocab_sz + 1, 50))\n",
    "for word, i in tok.word_index.items():\n",
    "    if i < vocab_sz + 1:  # Ensure indices are within the allowed range\n",
    "        if word in w2v_model.wv:\n",
    "            embedding_matrix[i] = w2v_model.wv[word]"
   ]
  },
  {
   "cell_type": "code",
   "execution_count": 191,
   "id": "08d6009d-1d9e-4762-9fd4-5399afb1de80",
   "metadata": {},
   "outputs": [],
   "source": [
    "# build model\n",
    "gensim_model = Sequential()\n",
    "gensim_model.add(Embedding(vocab_sz+1,50,input_length=max_length,weights=[embedding_matrix],trainable=False))\n",
    "gensim_model.add(Flatten())\n",
    "gensim_model.add(Dense(256, activation='relu'))\n",
    "gensim_model.add(Dropout(0.5))  \n",
    "gensim_model.add(BatchNormalization())\n",
    "gensim_model.add(Dense(128, activation='relu'))\n",
    "gensim_model.add(Dropout(0.5))  \n",
    "gensim_model.add(Dense(2, activation='softmax'))"
   ]
  },
  {
   "cell_type": "code",
   "execution_count": 192,
   "id": "96c015a5-590c-4103-9e1b-2e11f94e742c",
   "metadata": {},
   "outputs": [],
   "source": [
    "# One-hot encode the integer labels\n",
    "y_train = to_categorical(y_train, num_classes=2)\n",
    "y_test = to_categorical(y_test, num_classes=2)"
   ]
  },
  {
   "cell_type": "code",
   "execution_count": 193,
   "id": "3337d05c-f3b2-4ce3-b09a-08915e5f3a97",
   "metadata": {},
   "outputs": [
    {
     "name": "stdout",
     "output_type": "stream",
     "text": [
      "Epoch 1/100\n",
      "\u001b[1m1364/1364\u001b[0m \u001b[32m━━━━━━━━━━━━━━━━━━━━\u001b[0m\u001b[37m\u001b[0m \u001b[1m15s\u001b[0m 10ms/step - accuracy: 0.7835 - loss: 0.4861 - val_accuracy: 0.8394 - val_loss: 0.3506\n",
      "Epoch 2/100\n",
      "\u001b[1m1364/1364\u001b[0m \u001b[32m━━━━━━━━━━━━━━━━━━━━\u001b[0m\u001b[37m\u001b[0m \u001b[1m14s\u001b[0m 10ms/step - accuracy: 0.8361 - loss: 0.3692 - val_accuracy: 0.8518 - val_loss: 0.3417\n",
      "Epoch 3/100\n",
      "\u001b[1m1364/1364\u001b[0m \u001b[32m━━━━━━━━━━━━━━━━━━━━\u001b[0m\u001b[37m\u001b[0m \u001b[1m15s\u001b[0m 11ms/step - accuracy: 0.8458 - loss: 0.3535 - val_accuracy: 0.8575 - val_loss: 0.3302\n",
      "Epoch 4/100\n",
      "\u001b[1m1364/1364\u001b[0m \u001b[32m━━━━━━━━━━━━━━━━━━━━\u001b[0m\u001b[37m\u001b[0m \u001b[1m15s\u001b[0m 11ms/step - accuracy: 0.8465 - loss: 0.3469 - val_accuracy: 0.8623 - val_loss: 0.3195\n",
      "Epoch 5/100\n",
      "\u001b[1m1364/1364\u001b[0m \u001b[32m━━━━━━━━━━━━━━━━━━━━\u001b[0m\u001b[37m\u001b[0m \u001b[1m16s\u001b[0m 11ms/step - accuracy: 0.8475 - loss: 0.3438 - val_accuracy: 0.8620 - val_loss: 0.3208\n",
      "Epoch 6/100\n",
      "\u001b[1m1364/1364\u001b[0m \u001b[32m━━━━━━━━━━━━━━━━━━━━\u001b[0m\u001b[37m\u001b[0m \u001b[1m15s\u001b[0m 11ms/step - accuracy: 0.8515 - loss: 0.3375 - val_accuracy: 0.8644 - val_loss: 0.3126\n",
      "Epoch 7/100\n",
      "\u001b[1m1364/1364\u001b[0m \u001b[32m━━━━━━━━━━━━━━━━━━━━\u001b[0m\u001b[37m\u001b[0m \u001b[1m15s\u001b[0m 11ms/step - accuracy: 0.8553 - loss: 0.3326 - val_accuracy: 0.8646 - val_loss: 0.3133\n",
      "Epoch 8/100\n",
      "\u001b[1m1364/1364\u001b[0m \u001b[32m━━━━━━━━━━━━━━━━━━━━\u001b[0m\u001b[37m\u001b[0m \u001b[1m15s\u001b[0m 11ms/step - accuracy: 0.8601 - loss: 0.3221 - val_accuracy: 0.8670 - val_loss: 0.3103\n",
      "Epoch 9/100\n",
      "\u001b[1m1364/1364\u001b[0m \u001b[32m━━━━━━━━━━━━━━━━━━━━\u001b[0m\u001b[37m\u001b[0m \u001b[1m15s\u001b[0m 11ms/step - accuracy: 0.8593 - loss: 0.3256 - val_accuracy: 0.8646 - val_loss: 0.3083\n",
      "Epoch 10/100\n",
      "\u001b[1m1364/1364\u001b[0m \u001b[32m━━━━━━━━━━━━━━━━━━━━\u001b[0m\u001b[37m\u001b[0m \u001b[1m15s\u001b[0m 11ms/step - accuracy: 0.8606 - loss: 0.3218 - val_accuracy: 0.8668 - val_loss: 0.3054\n",
      "Epoch 11/100\n",
      "\u001b[1m1364/1364\u001b[0m \u001b[32m━━━━━━━━━━━━━━━━━━━━\u001b[0m\u001b[37m\u001b[0m \u001b[1m15s\u001b[0m 11ms/step - accuracy: 0.8565 - loss: 0.3230 - val_accuracy: 0.8665 - val_loss: 0.3050\n",
      "Epoch 12/100\n",
      "\u001b[1m1364/1364\u001b[0m \u001b[32m━━━━━━━━━━━━━━━━━━━━\u001b[0m\u001b[37m\u001b[0m \u001b[1m14s\u001b[0m 10ms/step - accuracy: 0.8628 - loss: 0.3192 - val_accuracy: 0.8679 - val_loss: 0.3089\n",
      "Epoch 13/100\n",
      "\u001b[1m1364/1364\u001b[0m \u001b[32m━━━━━━━━━━━━━━━━━━━━\u001b[0m\u001b[37m\u001b[0m \u001b[1m16s\u001b[0m 11ms/step - accuracy: 0.8640 - loss: 0.3133 - val_accuracy: 0.8648 - val_loss: 0.3161\n",
      "Epoch 14/100\n",
      "\u001b[1m1364/1364\u001b[0m \u001b[32m━━━━━━━━━━━━━━━━━━━━\u001b[0m\u001b[37m\u001b[0m \u001b[1m16s\u001b[0m 12ms/step - accuracy: 0.8640 - loss: 0.3079 - val_accuracy: 0.8704 - val_loss: 0.3042\n",
      "Epoch 15/100\n",
      "\u001b[1m1364/1364\u001b[0m \u001b[32m━━━━━━━━━━━━━━━━━━━━\u001b[0m\u001b[37m\u001b[0m \u001b[1m15s\u001b[0m 11ms/step - accuracy: 0.8666 - loss: 0.3080 - val_accuracy: 0.8711 - val_loss: 0.3056\n",
      "Epoch 16/100\n",
      "\u001b[1m1364/1364\u001b[0m \u001b[32m━━━━━━━━━━━━━━━━━━━━\u001b[0m\u001b[37m\u001b[0m \u001b[1m15s\u001b[0m 11ms/step - accuracy: 0.8619 - loss: 0.3077 - val_accuracy: 0.8719 - val_loss: 0.3055\n",
      "Epoch 17/100\n",
      "\u001b[1m1364/1364\u001b[0m \u001b[32m━━━━━━━━━━━━━━━━━━━━\u001b[0m\u001b[37m\u001b[0m \u001b[1m15s\u001b[0m 11ms/step - accuracy: 0.8681 - loss: 0.3016 - val_accuracy: 0.8656 - val_loss: 0.3098\n",
      "Epoch 18/100\n",
      "\u001b[1m1364/1364\u001b[0m \u001b[32m━━━━━━━━━━━━━━━━━━━━\u001b[0m\u001b[37m\u001b[0m \u001b[1m15s\u001b[0m 11ms/step - accuracy: 0.8694 - loss: 0.3028 - val_accuracy: 0.8692 - val_loss: 0.3073\n",
      "Epoch 19/100\n",
      "\u001b[1m1364/1364\u001b[0m \u001b[32m━━━━━━━━━━━━━━━━━━━━\u001b[0m\u001b[37m\u001b[0m \u001b[1m14s\u001b[0m 10ms/step - accuracy: 0.8650 - loss: 0.3065 - val_accuracy: 0.8710 - val_loss: 0.3013\n",
      "Epoch 20/100\n",
      "\u001b[1m1364/1364\u001b[0m \u001b[32m━━━━━━━━━━━━━━━━━━━━\u001b[0m\u001b[37m\u001b[0m \u001b[1m14s\u001b[0m 10ms/step - accuracy: 0.8700 - loss: 0.3000 - val_accuracy: 0.8687 - val_loss: 0.3098\n",
      "Epoch 21/100\n",
      "\u001b[1m1364/1364\u001b[0m \u001b[32m━━━━━━━━━━━━━━━━━━━━\u001b[0m\u001b[37m\u001b[0m \u001b[1m16s\u001b[0m 12ms/step - accuracy: 0.8715 - loss: 0.2964 - val_accuracy: 0.8698 - val_loss: 0.3063\n",
      "Epoch 22/100\n",
      "\u001b[1m1364/1364\u001b[0m \u001b[32m━━━━━━━━━━━━━━━━━━━━\u001b[0m\u001b[37m\u001b[0m \u001b[1m15s\u001b[0m 11ms/step - accuracy: 0.8703 - loss: 0.2957 - val_accuracy: 0.8714 - val_loss: 0.3051\n",
      "Epoch 23/100\n",
      "\u001b[1m1364/1364\u001b[0m \u001b[32m━━━━━━━━━━━━━━━━━━━━\u001b[0m\u001b[37m\u001b[0m \u001b[1m14s\u001b[0m 10ms/step - accuracy: 0.8710 - loss: 0.2917 - val_accuracy: 0.8711 - val_loss: 0.3047\n",
      "Epoch 24/100\n",
      "\u001b[1m1364/1364\u001b[0m \u001b[32m━━━━━━━━━━━━━━━━━━━━\u001b[0m\u001b[37m\u001b[0m \u001b[1m14s\u001b[0m 10ms/step - accuracy: 0.8690 - loss: 0.2954 - val_accuracy: 0.8708 - val_loss: 0.3061\n"
     ]
    }
   ],
   "source": [
    "early_stopping = EarlyStopping(monitor='val_loss', patience=5, restore_best_weights=True)\n",
    "\n",
    "gensim_model.compile(optimizer='adam', loss='categorical_crossentropy', metrics=['accuracy'])\n",
    "history = gensim_model.fit(x_train, y_train, epochs=100, batch_size=32, validation_data=(x_test,y_test), callbacks=[early_stopping])"
   ]
  },
  {
   "cell_type": "markdown",
   "id": "769e1288-ee24-42de-898c-47b79637b66e",
   "metadata": {},
   "source": [
    "#### Model Evaluation"
   ]
  },
  {
   "cell_type": "code",
   "execution_count": 194,
   "id": "3fb658bc-4c74-4f53-ae55-952b6c326a7f",
   "metadata": {},
   "outputs": [
    {
     "data": {
      "image/png": "[encoded data removed]",
      "text/plain": [
       "<Figure size 640x480 with 1 Axes>"
      ]
     },
     "metadata": {},
     "output_type": "display_data"
    }
   ],
   "source": [
    "plt.plot(history.history['loss'])\n",
    "plt.plot(history.history['val_loss'])\n",
    "plt.xlabel('epochs')\n",
    "plt.ylabel('loss')\n",
    "plt.legend(['loss','val_loss'])\n",
    "plt.title(\"Word Embedding by gensim loss VS val_loss\",fontweight=\"bold\")\n",
    "plt.show()"
   ]
  },
  {
   "cell_type": "code",
   "execution_count": 195,
   "id": "ab72255d-989a-4c20-b076-d0539c929c54",
   "metadata": {},
   "outputs": [
    {
     "data": {
      "image/png": "[encoded data removed]",
      "text/plain": [
       "<Figure size 640x480 with 1 Axes>"
      ]
     },
     "metadata": {},
     "output_type": "display_data"
    }
   ],
   "source": [
    "plt.plot(history.history['accuracy'])\n",
    "plt.plot(history.history['val_accuracy'])\n",
    "plt.xlabel('epochs')\n",
    "plt.ylabel('accuracy')\n",
    "plt.legend(['accuracy','val_accuracy'])\n",
    "plt.title(\"Word Embedding by gensim accuracy VS val_accuracy\",fontweight=\"bold\")\n",
    "plt.show()"
   ]
  },
  {
   "cell_type": "code",
   "execution_count": 196,
   "id": "057cc358-a78c-4c19-a5f0-7ed27a33bd1f",
   "metadata": {},
   "outputs": [
    {
     "name": "stdout",
     "output_type": "stream",
     "text": [
      "Train Accuracy: 0.89\n",
      "Test Accuracy: 0.87\n"
     ]
    }
   ],
   "source": [
    "loss, accuracy = gensim_model.evaluate(x_train, y_train, verbose=0)\n",
    "print(f\"Train Accuracy: {accuracy:.2f}\")\n",
    "\n",
    "loss, accuracy = gensim_model.evaluate(x_test, y_test, verbose=0)\n",
    "print(f\"Test Accuracy: {accuracy:.2f}\")"
   ]
  },
  {
   "cell_type": "code",
   "execution_count": 197,
   "id": "d98fba50-9065-4339-bc4c-27efe60decc8",
   "metadata": {},
   "outputs": [
    {
     "name": "stdout",
     "output_type": "stream",
     "text": [
      "\u001b[1m585/585\u001b[0m \u001b[32m━━━━━━━━━━━━━━━━━━━━\u001b[0m\u001b[37m\u001b[0m \u001b[1m1s\u001b[0m 2ms/step\n"
     ]
    }
   ],
   "source": [
    "y_pred_probs = gensim_model.predict(x_test)\n",
    "y_pred = np.argmax(y_pred_probs, axis=1)\n",
    "y_test = np.argmax(y_test, axis=1)\n",
    "conf_matrix = confusion_matrix(y_test, y_pred)"
   ]
  },
  {
   "cell_type": "code",
   "execution_count": 198,
   "id": "84230b5f-b7c0-42ac-897c-6eb4ac9330ce",
   "metadata": {},
   "outputs": [
    {
     "data": {
      "image/png": "[encoded data removed]",
      "text/plain": [
       "<Figure size 800x600 with 2 Axes>"
      ]
     },
     "metadata": {},
     "output_type": "display_data"
    }
   ],
   "source": [
    "plt.figure(figsize=(8,6))\n",
    "sns.heatmap(conf_matrix, annot=True, fmt='d', cmap='Blues', xticklabels=[0, 1], yticklabels=[0, 1])\n",
    "plt.xlabel('Predicted Label')\n",
    "plt.ylabel('True Label')\n",
    "plt.title('Confusion Matrix')\n",
    "plt.show()"
   ]
  },
  {
   "cell_type": "code",
   "execution_count": 199,
   "id": "e910b50e-c833-43b6-93a2-ef6f5f284352",
   "metadata": {},
   "outputs": [
    {
     "name": "stdout",
     "output_type": "stream",
     "text": [
      "Classification Report:\n",
      "              precision    recall  f1-score   support\n",
      "\n",
      "     Class 0       0.87      0.89      0.88     10315\n",
      "     Class 1       0.87      0.84      0.85      8391\n",
      "\n",
      "    accuracy                           0.87     18706\n",
      "   macro avg       0.87      0.87      0.87     18706\n",
      "weighted avg       0.87      0.87      0.87     18706\n",
      "\n"
     ]
    }
   ],
   "source": [
    "# Classification report\n",
    "class_report = classification_report(y_test, y_pred, target_names=['Class 0', 'Class 1'])\n",
    "print(\"Classification Report:\")\n",
    "print(class_report)"
   ]
  },
  {
   "cell_type": "code",
   "execution_count": null,
   "id": "3b93cfcf-eea8-41aa-9711-bea713268cad",
   "metadata": {},
   "outputs": [],
   "source": []
  },
  {
   "cell_type": "code",
   "execution_count": null,
   "id": "99dd92c3-83d2-40bb-8ff9-44a30f110d90",
   "metadata": {},
   "outputs": [],
   "source": []
  },
  {
   "cell_type": "code",
   "execution_count": null,
   "id": "9006fae6-9b9d-4f0a-851e-35908e91a830",
   "metadata": {},
   "outputs": [],
   "source": []
  },
  {
   "cell_type": "markdown",
   "id": "dee27485-7ce4-4064-9988-a95221c266a5",
   "metadata": {},
   "source": [
    "### 3- Using RNN"
   ]
  },
  {
   "cell_type": "markdown",
   "id": "520eb502-4b82-4fe2-8995-cd6f239d620e",
   "metadata": {},
   "source": [
    "#### a- Simple RNN"
   ]
  },
  {
   "cell_type": "code",
   "execution_count": 220,
   "id": "737b2ecd-62aa-430a-854d-91e4af5efd6c",
   "metadata": {},
   "outputs": [
    {
     "name": "stdout",
     "output_type": "stream",
     "text": [
      "(43645,)\n",
      "(43645,)\n",
      "(18706,)\n",
      "(18706,)\n"
     ]
    }
   ],
   "source": [
    "# Split data\n",
    "x_train,x_test,y_train,y_test=train_test_split(df.title,df.label,test_size=.30,random_state=42)\n",
    "\n",
    "print (x_train.shape)\n",
    "print (y_train.shape)\n",
    "print (x_test.shape)\n",
    "print (y_test.shape)"
   ]
  },
  {
   "cell_type": "code",
   "execution_count": 221,
   "id": "9200fdbd-eb29-424d-abf6-f8a958713170",
   "metadata": {},
   "outputs": [
    {
     "data": {
      "text/plain": [
       "'kenyan police say four people kill opposition demonstration past two week'"
      ]
     },
     "execution_count": 221,
     "metadata": {},
     "output_type": "execute_result"
    }
   ],
   "source": [
    "trn_texts=normalize_corpus(x_train)\n",
    "tst_texts=normalize_corpus(x_test)\n",
    "trn_texts[0]"
   ]
  },
  {
   "cell_type": "code",
   "execution_count": 222,
   "id": "97243e75-3312-4aa1-8eb2-d7b018e3c084",
   "metadata": {},
   "outputs": [],
   "source": [
    "# Tokenize the text data\n",
    "from tensorflow.keras.preprocessing.text import Tokenizer\n",
    "\n",
    "vocab_sz = 10000\n",
    "tok = Tokenizer(num_words=vocab_sz, oov_token=\"UNK\")\n",
    "tok.fit_on_texts(trn_texts + tst_texts)\n",
    "\n",
    "# Convert text to sequences\n",
    "x_train = tok.texts_to_sequences(trn_texts)\n",
    "x_test = tok.texts_to_sequences(tst_texts)"
   ]
  },
  {
   "cell_type": "code",
   "execution_count": 223,
   "id": "bbcf60d8-48ef-41f2-9399-f3f5d596e874",
   "metadata": {},
   "outputs": [
    {
     "data": {
      "text/plain": [
       "[1827, 41, 8, 547, 77, 35, 304, 5718, 1086, 156, 267]"
      ]
     },
     "execution_count": 223,
     "metadata": {},
     "output_type": "execute_result"
    }
   ],
   "source": [
    "x_train[0]"
   ]
  },
  {
   "cell_type": "code",
   "execution_count": 224,
   "id": "633d618f-b0de-4bf5-bed5-58c350c23598",
   "metadata": {},
   "outputs": [],
   "source": [
    "# Pad the sequences to a fixed length\n",
    "from tensorflow.keras.preprocessing.sequence import pad_sequences\n",
    "\n",
    "max_length = 50\n",
    "x_train = pad_sequences(x_train, maxlen=max_length, padding='post')\n",
    "x_test = pad_sequences(x_test, maxlen=max_length, padding='post')"
   ]
  },
  {
   "cell_type": "code",
   "execution_count": 225,
   "id": "f1787e81-4713-4c74-8b8d-321f84036e57",
   "metadata": {},
   "outputs": [
    {
     "data": {
      "text/plain": [
       "array([1827,   41,    8,  547,   77,   35,  304, 5718, 1086,  156,  267,\n",
       "          0,    0,    0,    0,    0,    0,    0,    0,    0,    0,    0,\n",
       "          0,    0,    0,    0,    0,    0,    0,    0,    0,    0,    0,\n",
       "          0,    0,    0,    0,    0,    0,    0,    0,    0,    0,    0,\n",
       "          0,    0,    0,    0,    0,    0])"
      ]
     },
     "execution_count": 225,
     "metadata": {},
     "output_type": "execute_result"
    }
   ],
   "source": [
    "x_train[0]"
   ]
  },
  {
   "cell_type": "code",
   "execution_count": 226,
   "id": "af0a3567-3e40-4f20-8a08-a298d4ffe819",
   "metadata": {},
   "outputs": [],
   "source": [
    "s_rnn_model = Sequential()\n",
    "s_rnn_model.add(Embedding(vocab_sz+1,n_latent_factors,input_length = max_length))\n",
    "s_rnn_model.add(Dropout(0.4))\n",
    "s_rnn_model.add(SimpleRNN(units=75,kernel_regularizer = l2(0.001)))\n",
    "s_rnn_model.add(Dense(256, activation='relu'))\n",
    "s_rnn_model.add(Dropout(0.4))\n",
    "s_rnn_model.add(Dense(2, activation= 'softmax'))"
   ]
  },
  {
   "cell_type": "code",
   "execution_count": 227,
   "id": "413050ec-4c95-4d03-a707-4e64db870251",
   "metadata": {},
   "outputs": [],
   "source": [
    "# One-hot encode the integer labels\n",
    "y_train = to_categorical(y_train, num_classes=2)\n",
    "y_test = to_categorical(y_test, num_classes=2)"
   ]
  },
  {
   "cell_type": "code",
   "execution_count": 228,
   "id": "ba33f1f7-bf0f-49ed-9e25-35e88b93bd82",
   "metadata": {},
   "outputs": [
    {
     "name": "stdout",
     "output_type": "stream",
     "text": [
      "Epoch 1/100\n",
      "\u001b[1m1364/1364\u001b[0m \u001b[32m━━━━━━━━━━━━━━━━━━━━\u001b[0m\u001b[37m\u001b[0m \u001b[1m18s\u001b[0m 12ms/step - accuracy: 0.7908 - loss: 0.4867 - val_accuracy: 0.8863 - val_loss: 0.3111\n",
      "Epoch 2/100\n",
      "\u001b[1m1364/1364\u001b[0m \u001b[32m━━━━━━━━━━━━━━━━━━━━\u001b[0m\u001b[37m\u001b[0m \u001b[1m16s\u001b[0m 12ms/step - accuracy: 0.9019 - loss: 0.2807 - val_accuracy: 0.8774 - val_loss: 0.3126\n",
      "Epoch 3/100\n",
      "\u001b[1m1364/1364\u001b[0m \u001b[32m━━━━━━━━━━━━━━━━━━━━\u001b[0m\u001b[37m\u001b[0m \u001b[1m16s\u001b[0m 12ms/step - accuracy: 0.9165 - loss: 0.2365 - val_accuracy: 0.8886 - val_loss: 0.3042\n",
      "Epoch 4/100\n",
      "\u001b[1m1364/1364\u001b[0m \u001b[32m━━━━━━━━━━━━━━━━━━━━\u001b[0m\u001b[37m\u001b[0m \u001b[1m16s\u001b[0m 12ms/step - accuracy: 0.9276 - loss: 0.2037 - val_accuracy: 0.8911 - val_loss: 0.3033\n",
      "Epoch 5/100\n",
      "\u001b[1m1364/1364\u001b[0m \u001b[32m━━━━━━━━━━━━━━━━━━━━\u001b[0m\u001b[37m\u001b[0m \u001b[1m16s\u001b[0m 12ms/step - accuracy: 0.9311 - loss: 0.1901 - val_accuracy: 0.8828 - val_loss: 0.3440\n"
     ]
    }
   ],
   "source": [
    "# Configure model\n",
    "from keras.callbacks import EarlyStopping\n",
    "\n",
    "early_stop = EarlyStopping(monitor = \"val_loss\",patience = 5)\n",
    "\n",
    "s_rnn_model.compile(loss='categorical_crossentropy', optimizer='adam', metrics=['accuracy'])\n",
    "history = s_rnn_model.fit(x_train, y_train, epochs=100, batch_size=32, validation_data=(x_test,y_test), callbacks=[early_stopping])"
   ]
  },
  {
   "cell_type": "markdown",
   "id": "ea625c6d-56d9-4450-8342-0a968edeefed",
   "metadata": {},
   "source": [
    "#### Model Evaluation"
   ]
  },
  {
   "cell_type": "code",
   "execution_count": 229,
   "id": "e8980fd1-4afa-4575-9534-16e87e21a9e8",
   "metadata": {},
   "outputs": [
    {
     "data": {
      "image/png": "[encoded data removed]",
      "text/plain": [
       "<Figure size 640x480 with 1 Axes>"
      ]
     },
     "metadata": {},
     "output_type": "display_data"
    }
   ],
   "source": [
    "plt.plot(history.history['loss'])\n",
    "plt.plot(history.history['val_loss'])\n",
    "plt.xlabel('epochs')\n",
    "plt.ylabel('loss')\n",
    "plt.legend(['loss','val_loss'])\n",
    "plt.title(\"Simple RNN loss VS val_loss\",fontweight=\"bold\")\n",
    "plt.show()"
   ]
  },
  {
   "cell_type": "code",
   "execution_count": 230,
   "id": "d4302e44-96dd-40fe-87f0-79e4519e49fe",
   "metadata": {},
   "outputs": [
    {
     "data": {
      "image/png": "[encoded data removed]",
      "text/plain": [
       "<Figure size 640x480 with 1 Axes>"
      ]
     },
     "metadata": {},
     "output_type": "display_data"
    }
   ],
   "source": [
    "plt.plot(history.history['accuracy'])\n",
    "plt.plot(history.history['val_accuracy'])\n",
    "plt.xlabel('epochs')\n",
    "plt.ylabel('accuracy')\n",
    "plt.legend(['accuracy','val_accuracy'])\n",
    "plt.title(\"Simple RNN accuracy VS val_accuracy\",fontweight=\"bold\")\n",
    "plt.show()"
   ]
  },
  {
   "cell_type": "code",
   "execution_count": 231,
   "id": "3d0d4617-41bd-49f2-b950-96d9c7ba6270",
   "metadata": {},
   "outputs": [
    {
     "name": "stdout",
     "output_type": "stream",
     "text": [
      "Train Accuracy: 0.92\n",
      "Test Accuracy: 0.89\n"
     ]
    }
   ],
   "source": [
    "loss, accuracy = s_rnn_model.evaluate(x_train, y_train, verbose=0)\n",
    "print(f\"Train Accuracy: {accuracy:.2f}\")\n",
    "\n",
    "loss, accuracy = s_rnn_model.evaluate(x_test, y_test, verbose=0)\n",
    "print(f\"Test Accuracy: {accuracy:.2f}\")"
   ]
  },
  {
   "cell_type": "code",
   "execution_count": 232,
   "id": "deb10221-8bac-436c-b73c-4e26ebb91d36",
   "metadata": {},
   "outputs": [
    {
     "name": "stdout",
     "output_type": "stream",
     "text": [
      "\u001b[1m585/585\u001b[0m \u001b[32m━━━━━━━━━━━━━━━━━━━━\u001b[0m\u001b[37m\u001b[0m \u001b[1m2s\u001b[0m 3ms/step\n"
     ]
    }
   ],
   "source": [
    "y_pred_probs = s_rnn_model.predict(x_test)\n",
    "y_pred = np.argmax(y_pred_probs, axis=1)\n",
    "y_test = np.argmax(y_test, axis=1)\n",
    "conf_matrix = confusion_matrix(y_test, y_pred)"
   ]
  },
  {
   "cell_type": "code",
   "execution_count": 233,
   "id": "583604a9-6da6-4618-aff0-00fd21203358",
   "metadata": {},
   "outputs": [
    {
     "data": {
      "image/png": "[encoded data removed]",
      "text/plain": [
       "<Figure size 800x600 with 2 Axes>"
      ]
     },
     "metadata": {},
     "output_type": "display_data"
    }
   ],
   "source": [
    "plt.figure(figsize=(8,6))\n",
    "sns.heatmap(conf_matrix, annot=True, fmt='d', cmap='Blues', xticklabels=[0, 1], yticklabels=[0, 1])\n",
    "plt.xlabel('Predicted Label')\n",
    "plt.ylabel('True Label')\n",
    "plt.title('Confusion Matrix')\n",
    "plt.show()"
   ]
  },
  {
   "cell_type": "code",
   "execution_count": 234,
   "id": "2c81bf95-0f7c-41bc-b35a-2600ffd9db5f",
   "metadata": {},
   "outputs": [
    {
     "name": "stdout",
     "output_type": "stream",
     "text": [
      "Classification Report:\n",
      "              precision    recall  f1-score   support\n",
      "\n",
      "     Class 0       0.89      0.90      0.90     10315\n",
      "     Class 1       0.88      0.87      0.87      8391\n",
      "\n",
      "    accuracy                           0.89     18706\n",
      "   macro avg       0.89      0.88      0.89     18706\n",
      "weighted avg       0.89      0.89      0.89     18706\n",
      "\n"
     ]
    }
   ],
   "source": [
    "# Classification report\n",
    "class_report = classification_report(y_test, y_pred, target_names=['Class 0', 'Class 1'])\n",
    "print(\"Classification Report:\")\n",
    "print(class_report)"
   ]
  },
  {
   "cell_type": "markdown",
   "id": "f20b0bbf-d06f-4014-9fca-e7865cf4a2bd",
   "metadata": {},
   "source": [
    "#### b- LSTM"
   ]
  },
  {
   "cell_type": "code",
   "execution_count": 293,
   "id": "08dd20d7-87b1-4c63-89ba-ab7c8e117ab9",
   "metadata": {},
   "outputs": [
    {
     "name": "stdout",
     "output_type": "stream",
     "text": [
      "(43645,)\n",
      "(43645,)\n",
      "(18706,)\n",
      "(18706,)\n"
     ]
    }
   ],
   "source": [
    "# Split data\n",
    "x_train, x_test, y_train, y_test = train_test_split(df.title, df.label, test_size=0.30, random_state=42)\n",
    "\n",
    "print(x_train.shape)\n",
    "print(y_train.shape)\n",
    "print(x_test.shape)\n",
    "print(y_test.shape)"
   ]
  },
  {
   "cell_type": "code",
   "execution_count": 294,
   "id": "f92a391a-6e5a-4a65-a5ee-0cafdd9f54c4",
   "metadata": {},
   "outputs": [
    {
     "name": "stdout",
     "output_type": "stream",
     "text": [
      "kenyan police say four people kill opposition demonstration past two week\n"
     ]
    }
   ],
   "source": [
    "trn_texts = normalize_corpus(x_train)\n",
    "tst_texts = normalize_corpus(x_test)\n",
    "print(trn_texts[0])"
   ]
  },
  {
   "cell_type": "code",
   "execution_count": 295,
   "id": "beaba376-e959-49ea-9b9f-e301c0979e1e",
   "metadata": {},
   "outputs": [],
   "source": [
    "# Tokenize the text data\n",
    "from tensorflow.keras.preprocessing.text import Tokenizer\n",
    "\n",
    "# Tokenize the text data\n",
    "tok = Tokenizer()\n",
    "tok.fit_on_texts(trn_texts + tst_texts)\n",
    "\n",
    "# # Define vocab size (include OOV token)\n",
    "# vocab_sz = len(tok.word_index)  # Total number of unique tokens\n",
    "\n",
    "# Convert text to sequences\n",
    "x_train = tok.texts_to_sequences(trn_texts)\n",
    "x_test = tok.texts_to_sequences(tst_texts)"
   ]
  },
  {
   "cell_type": "code",
   "execution_count": 296,
   "id": "da19a04f-75ff-48d9-92e4-457142e459c6",
   "metadata": {},
   "outputs": [
    {
     "data": {
      "text/plain": [
       "[1826, 40, 7, 546, 76, 34, 303, 5717, 1085, 155, 266]"
      ]
     },
     "execution_count": 296,
     "metadata": {},
     "output_type": "execute_result"
    }
   ],
   "source": [
    "x_train[0]"
   ]
  },
  {
   "cell_type": "code",
   "execution_count": 297,
   "id": "614b93f3-5dfa-400b-b3e5-7f63652cbfbd",
   "metadata": {},
   "outputs": [],
   "source": [
    "# Pad the sequences to a fixed length\n",
    "from tensorflow.keras.preprocessing.sequence import pad_sequences\n",
    "\n",
    "max_length = 50\n",
    "x_train = pad_sequences(x_train, maxlen=max_length, padding='post')\n",
    "x_test = pad_sequences(x_test, maxlen=max_length, padding='post')"
   ]
  },
  {
   "cell_type": "code",
   "execution_count": 298,
   "id": "841e58e9-17bb-4379-b668-a04f515e9908",
   "metadata": {},
   "outputs": [
    {
     "data": {
      "text/plain": [
       "array([1826,   40,    7,  546,   76,   34,  303, 5717, 1085,  155,  266,\n",
       "          0,    0,    0,    0,    0,    0,    0,    0,    0,    0,    0,\n",
       "          0,    0,    0,    0,    0,    0,    0,    0,    0,    0,    0,\n",
       "          0,    0,    0,    0,    0,    0,    0,    0,    0,    0,    0,\n",
       "          0,    0,    0,    0,    0,    0])"
      ]
     },
     "execution_count": 298,
     "metadata": {},
     "output_type": "execute_result"
    }
   ],
   "source": [
    "x_train[0]"
   ]
  },
  {
   "cell_type": "code",
   "execution_count": 302,
   "id": "4b1b3b1d-1552-4701-afd9-2d99065a160c",
   "metadata": {},
   "outputs": [],
   "source": [
    "n_latent_factors = 50\n",
    "lstm_out = 256\n",
    "\n",
    "# Build the model\n",
    "lstm_model = Sequential()\n",
    "lstm_model.add(Embedding(input_dim=vocab_sz + 1, output_dim=n_latent_factors, input_length=max_length))\n",
    "lstm_model.add(Dropout(0.4))\n",
    "lstm_model.add(LSTM(lstm_out, dropout=0.2, recurrent_dropout=0.2, return_sequences=False))\n",
    "lstm_model.add(Dense(256, activation='relu', kernel_regularizer=l2(0.01)))\n",
    "lstm_model.add(Dense(2, activation='softmax'))"
   ]
  },
  {
   "cell_type": "code",
   "execution_count": 300,
   "id": "97bb09b0-9f36-4abb-aa73-a4cd4eb369d0",
   "metadata": {},
   "outputs": [],
   "source": [
    "# One-hot encode the integer labels\n",
    "y_train = to_categorical(y_train, num_classes=2)\n",
    "y_test = to_categorical(y_test, num_classes=2)"
   ]
  },
  {
   "cell_type": "code",
   "execution_count": 304,
   "id": "6060f021-c700-45d8-814a-b60c459a0dec",
   "metadata": {},
   "outputs": [
    {
     "name": "stdout",
     "output_type": "stream",
     "text": [
      "Epoch 1/100\n",
      "\u001b[1m1364/1364\u001b[0m \u001b[32m━━━━━━━━━━━━━━━━━━━━\u001b[0m\u001b[37m\u001b[0m \u001b[1m105s\u001b[0m 75ms/step - accuracy: 0.5536 - loss: 0.9470 - val_accuracy: 0.5514 - val_loss: 0.6879\n",
      "Epoch 2/100\n",
      "\u001b[1m1364/1364\u001b[0m \u001b[32m━━━━━━━━━━━━━━━━━━━━\u001b[0m\u001b[37m\u001b[0m \u001b[1m99s\u001b[0m 73ms/step - accuracy: 0.5485 - loss: 0.6889 - val_accuracy: 0.5514 - val_loss: 0.6893\n",
      "Epoch 3/100\n",
      "\u001b[1m1364/1364\u001b[0m \u001b[32m━━━━━━━━━━━━━━━━━━━━\u001b[0m\u001b[37m\u001b[0m \u001b[1m96s\u001b[0m 71ms/step - accuracy: 0.5519 - loss: 0.6883 - val_accuracy: 0.5514 - val_loss: 0.6880\n",
      "Epoch 4/100\n",
      "\u001b[1m1364/1364\u001b[0m \u001b[32m━━━━━━━━━━━━━━━━━━━━\u001b[0m\u001b[37m\u001b[0m \u001b[1m96s\u001b[0m 70ms/step - accuracy: 0.5531 - loss: 0.6877 - val_accuracy: 0.5514 - val_loss: 0.6879\n",
      "Epoch 5/100\n",
      "\u001b[1m1364/1364\u001b[0m \u001b[32m━━━━━━━━━━━━━━━━━━━━\u001b[0m\u001b[37m\u001b[0m \u001b[1m96s\u001b[0m 70ms/step - accuracy: 0.5524 - loss: 0.6878 - val_accuracy: 0.5514 - val_loss: 0.6879\n",
      "Epoch 6/100\n",
      "\u001b[1m1364/1364\u001b[0m \u001b[32m━━━━━━━━━━━━━━━━━━━━\u001b[0m\u001b[37m\u001b[0m \u001b[1m95s\u001b[0m 70ms/step - accuracy: 0.5535 - loss: 0.6875 - val_accuracy: 0.5514 - val_loss: 0.6880\n",
      "Epoch 7/100\n",
      "\u001b[1m1364/1364\u001b[0m \u001b[32m━━━━━━━━━━━━━━━━━━━━\u001b[0m\u001b[37m\u001b[0m \u001b[1m96s\u001b[0m 71ms/step - accuracy: 0.5527 - loss: 0.6877 - val_accuracy: 0.5514 - val_loss: 0.6879\n",
      "Epoch 8/100\n",
      "\u001b[1m1364/1364\u001b[0m \u001b[32m━━━━━━━━━━━━━━━━━━━━\u001b[0m\u001b[37m\u001b[0m \u001b[1m98s\u001b[0m 72ms/step - accuracy: 0.5504 - loss: 0.6881 - val_accuracy: 0.5514 - val_loss: 0.6879\n",
      "Epoch 9/100\n",
      "\u001b[1m1364/1364\u001b[0m \u001b[32m━━━━━━━━━━━━━━━━━━━━\u001b[0m\u001b[37m\u001b[0m \u001b[1m102s\u001b[0m 74ms/step - accuracy: 0.5500 - loss: 0.6882 - val_accuracy: 0.5514 - val_loss: 0.6879\n",
      "Epoch 10/100\n",
      "\u001b[1m1211/1364\u001b[0m \u001b[32m━━━━━━━━━━━━━━━━━\u001b[0m\u001b[37m━━━\u001b[0m \u001b[1m9s\u001b[0m 64ms/step - accuracy: 0.5496 - loss: 0.6883"
     ]
    },
    {
     "ename": "KeyboardInterrupt",
     "evalue": "",
     "output_type": "error",
     "traceback": [
      "\u001b[1;31m---------------------------------------------------------------------------\u001b[0m",
      "\u001b[1;31mKeyboardInterrupt\u001b[0m                         Traceback (most recent call last)",
      "Cell \u001b[1;32mIn[304], line 6\u001b[0m\n\u001b[0;32m      3\u001b[0m lstm_model\u001b[38;5;241m.\u001b[39mcompile(loss\u001b[38;5;241m=\u001b[39m\u001b[38;5;124m'\u001b[39m\u001b[38;5;124mcategorical_crossentropy\u001b[39m\u001b[38;5;124m'\u001b[39m, optimizer\u001b[38;5;241m=\u001b[39m\u001b[38;5;124m'\u001b[39m\u001b[38;5;124madam\u001b[39m\u001b[38;5;124m'\u001b[39m, metrics\u001b[38;5;241m=\u001b[39m[\u001b[38;5;124m'\u001b[39m\u001b[38;5;124maccuracy\u001b[39m\u001b[38;5;124m'\u001b[39m])\n\u001b[0;32m      5\u001b[0m \u001b[38;5;66;03m# Train the model\u001b[39;00m\n\u001b[1;32m----> 6\u001b[0m history \u001b[38;5;241m=\u001b[39m lstm_model\u001b[38;5;241m.\u001b[39mfit(x_train, y_train,epochs\u001b[38;5;241m=\u001b[39m\u001b[38;5;241m100\u001b[39m,batch_size\u001b[38;5;241m=\u001b[39m\u001b[38;5;241m32\u001b[39m,validation_data\u001b[38;5;241m=\u001b[39m(x_test, y_test),callbacks\u001b[38;5;241m=\u001b[39m[early_stop])\n",
      "File \u001b[1;32m~\\anaconda3\\Lib\\site-packages\\keras\\src\\utils\\traceback_utils.py:117\u001b[0m, in \u001b[0;36mfilter_traceback.<locals>.error_handler\u001b[1;34m(*args, **kwargs)\u001b[0m\n\u001b[0;32m    115\u001b[0m filtered_tb \u001b[38;5;241m=\u001b[39m \u001b[38;5;28;01mNone\u001b[39;00m\n\u001b[0;32m    116\u001b[0m \u001b[38;5;28;01mtry\u001b[39;00m:\n\u001b[1;32m--> 117\u001b[0m     \u001b[38;5;28;01mreturn\u001b[39;00m fn(\u001b[38;5;241m*\u001b[39margs, \u001b[38;5;241m*\u001b[39m\u001b[38;5;241m*\u001b[39mkwargs)\n\u001b[0;32m    118\u001b[0m \u001b[38;5;28;01mexcept\u001b[39;00m \u001b[38;5;167;01mException\u001b[39;00m \u001b[38;5;28;01mas\u001b[39;00m e:\n\u001b[0;32m    119\u001b[0m     filtered_tb \u001b[38;5;241m=\u001b[39m _process_traceback_frames(e\u001b[38;5;241m.\u001b[39m__traceback__)\n",
      "File \u001b[1;32m~\\anaconda3\\Lib\\site-packages\\keras\\src\\backend\\tensorflow\\trainer.py:320\u001b[0m, in \u001b[0;36mTensorFlowTrainer.fit\u001b[1;34m(self, x, y, batch_size, epochs, verbose, callbacks, validation_split, validation_data, shuffle, class_weight, sample_weight, initial_epoch, steps_per_epoch, validation_steps, validation_batch_size, validation_freq)\u001b[0m\n\u001b[0;32m    318\u001b[0m \u001b[38;5;28;01mfor\u001b[39;00m step, iterator \u001b[38;5;129;01min\u001b[39;00m epoch_iterator\u001b[38;5;241m.\u001b[39menumerate_epoch():\n\u001b[0;32m    319\u001b[0m     callbacks\u001b[38;5;241m.\u001b[39mon_train_batch_begin(step)\n\u001b[1;32m--> 320\u001b[0m     logs \u001b[38;5;241m=\u001b[39m \u001b[38;5;28mself\u001b[39m\u001b[38;5;241m.\u001b[39mtrain_function(iterator)\n\u001b[0;32m    321\u001b[0m     callbacks\u001b[38;5;241m.\u001b[39mon_train_batch_end(step, logs)\n\u001b[0;32m    322\u001b[0m     \u001b[38;5;28;01mif\u001b[39;00m \u001b[38;5;28mself\u001b[39m\u001b[38;5;241m.\u001b[39mstop_training:\n",
      "File \u001b[1;32m~\\anaconda3\\Lib\\site-packages\\tensorflow\\python\\util\\traceback_utils.py:150\u001b[0m, in \u001b[0;36mfilter_traceback.<locals>.error_handler\u001b[1;34m(*args, **kwargs)\u001b[0m\n\u001b[0;32m    148\u001b[0m filtered_tb \u001b[38;5;241m=\u001b[39m \u001b[38;5;28;01mNone\u001b[39;00m\n\u001b[0;32m    149\u001b[0m \u001b[38;5;28;01mtry\u001b[39;00m:\n\u001b[1;32m--> 150\u001b[0m   \u001b[38;5;28;01mreturn\u001b[39;00m fn(\u001b[38;5;241m*\u001b[39margs, \u001b[38;5;241m*\u001b[39m\u001b[38;5;241m*\u001b[39mkwargs)\n\u001b[0;32m    151\u001b[0m \u001b[38;5;28;01mexcept\u001b[39;00m \u001b[38;5;167;01mException\u001b[39;00m \u001b[38;5;28;01mas\u001b[39;00m e:\n\u001b[0;32m    152\u001b[0m   filtered_tb \u001b[38;5;241m=\u001b[39m _process_traceback_frames(e\u001b[38;5;241m.\u001b[39m__traceback__)\n",
      "File \u001b[1;32m~\\anaconda3\\Lib\\site-packages\\tensorflow\\python\\eager\\polymorphic_function\\polymorphic_function.py:833\u001b[0m, in \u001b[0;36mFunction.__call__\u001b[1;34m(self, *args, **kwds)\u001b[0m\n\u001b[0;32m    830\u001b[0m compiler \u001b[38;5;241m=\u001b[39m \u001b[38;5;124m\"\u001b[39m\u001b[38;5;124mxla\u001b[39m\u001b[38;5;124m\"\u001b[39m \u001b[38;5;28;01mif\u001b[39;00m \u001b[38;5;28mself\u001b[39m\u001b[38;5;241m.\u001b[39m_jit_compile \u001b[38;5;28;01melse\u001b[39;00m \u001b[38;5;124m\"\u001b[39m\u001b[38;5;124mnonXla\u001b[39m\u001b[38;5;124m\"\u001b[39m\n\u001b[0;32m    832\u001b[0m \u001b[38;5;28;01mwith\u001b[39;00m OptionalXlaContext(\u001b[38;5;28mself\u001b[39m\u001b[38;5;241m.\u001b[39m_jit_compile):\n\u001b[1;32m--> 833\u001b[0m   result \u001b[38;5;241m=\u001b[39m \u001b[38;5;28mself\u001b[39m\u001b[38;5;241m.\u001b[39m_call(\u001b[38;5;241m*\u001b[39margs, \u001b[38;5;241m*\u001b[39m\u001b[38;5;241m*\u001b[39mkwds)\n\u001b[0;32m    835\u001b[0m new_tracing_count \u001b[38;5;241m=\u001b[39m \u001b[38;5;28mself\u001b[39m\u001b[38;5;241m.\u001b[39mexperimental_get_tracing_count()\n\u001b[0;32m    836\u001b[0m without_tracing \u001b[38;5;241m=\u001b[39m (tracing_count \u001b[38;5;241m==\u001b[39m new_tracing_count)\n",
      "File \u001b[1;32m~\\anaconda3\\Lib\\site-packages\\tensorflow\\python\\eager\\polymorphic_function\\polymorphic_function.py:878\u001b[0m, in \u001b[0;36mFunction._call\u001b[1;34m(self, *args, **kwds)\u001b[0m\n\u001b[0;32m    875\u001b[0m \u001b[38;5;28mself\u001b[39m\u001b[38;5;241m.\u001b[39m_lock\u001b[38;5;241m.\u001b[39mrelease()\n\u001b[0;32m    876\u001b[0m \u001b[38;5;66;03m# In this case we have not created variables on the first call. So we can\u001b[39;00m\n\u001b[0;32m    877\u001b[0m \u001b[38;5;66;03m# run the first trace but we should fail if variables are created.\u001b[39;00m\n\u001b[1;32m--> 878\u001b[0m results \u001b[38;5;241m=\u001b[39m tracing_compilation\u001b[38;5;241m.\u001b[39mcall_function(\n\u001b[0;32m    879\u001b[0m     args, kwds, \u001b[38;5;28mself\u001b[39m\u001b[38;5;241m.\u001b[39m_variable_creation_config\n\u001b[0;32m    880\u001b[0m )\n\u001b[0;32m    881\u001b[0m \u001b[38;5;28;01mif\u001b[39;00m \u001b[38;5;28mself\u001b[39m\u001b[38;5;241m.\u001b[39m_created_variables:\n\u001b[0;32m    882\u001b[0m   \u001b[38;5;28;01mraise\u001b[39;00m \u001b[38;5;167;01mValueError\u001b[39;00m(\u001b[38;5;124m\"\u001b[39m\u001b[38;5;124mCreating variables on a non-first call to a function\u001b[39m\u001b[38;5;124m\"\u001b[39m\n\u001b[0;32m    883\u001b[0m                    \u001b[38;5;124m\"\u001b[39m\u001b[38;5;124m decorated with tf.function.\u001b[39m\u001b[38;5;124m\"\u001b[39m)\n",
      "File \u001b[1;32m~\\anaconda3\\Lib\\site-packages\\tensorflow\\python\\eager\\polymorphic_function\\tracing_compilation.py:139\u001b[0m, in \u001b[0;36mcall_function\u001b[1;34m(args, kwargs, tracing_options)\u001b[0m\n\u001b[0;32m    137\u001b[0m bound_args \u001b[38;5;241m=\u001b[39m function\u001b[38;5;241m.\u001b[39mfunction_type\u001b[38;5;241m.\u001b[39mbind(\u001b[38;5;241m*\u001b[39margs, \u001b[38;5;241m*\u001b[39m\u001b[38;5;241m*\u001b[39mkwargs)\n\u001b[0;32m    138\u001b[0m flat_inputs \u001b[38;5;241m=\u001b[39m function\u001b[38;5;241m.\u001b[39mfunction_type\u001b[38;5;241m.\u001b[39munpack_inputs(bound_args)\n\u001b[1;32m--> 139\u001b[0m \u001b[38;5;28;01mreturn\u001b[39;00m function\u001b[38;5;241m.\u001b[39m_call_flat(  \u001b[38;5;66;03m# pylint: disable=protected-access\u001b[39;00m\n\u001b[0;32m    140\u001b[0m     flat_inputs, captured_inputs\u001b[38;5;241m=\u001b[39mfunction\u001b[38;5;241m.\u001b[39mcaptured_inputs\n\u001b[0;32m    141\u001b[0m )\n",
      "File \u001b[1;32m~\\anaconda3\\Lib\\site-packages\\tensorflow\\python\\eager\\polymorphic_function\\concrete_function.py:1322\u001b[0m, in \u001b[0;36mConcreteFunction._call_flat\u001b[1;34m(self, tensor_inputs, captured_inputs)\u001b[0m\n\u001b[0;32m   1318\u001b[0m possible_gradient_type \u001b[38;5;241m=\u001b[39m gradients_util\u001b[38;5;241m.\u001b[39mPossibleTapeGradientTypes(args)\n\u001b[0;32m   1319\u001b[0m \u001b[38;5;28;01mif\u001b[39;00m (possible_gradient_type \u001b[38;5;241m==\u001b[39m gradients_util\u001b[38;5;241m.\u001b[39mPOSSIBLE_GRADIENT_TYPES_NONE\n\u001b[0;32m   1320\u001b[0m     \u001b[38;5;129;01mand\u001b[39;00m executing_eagerly):\n\u001b[0;32m   1321\u001b[0m   \u001b[38;5;66;03m# No tape is watching; skip to running the function.\u001b[39;00m\n\u001b[1;32m-> 1322\u001b[0m   \u001b[38;5;28;01mreturn\u001b[39;00m \u001b[38;5;28mself\u001b[39m\u001b[38;5;241m.\u001b[39m_inference_function\u001b[38;5;241m.\u001b[39mcall_preflattened(args)\n\u001b[0;32m   1323\u001b[0m forward_backward \u001b[38;5;241m=\u001b[39m \u001b[38;5;28mself\u001b[39m\u001b[38;5;241m.\u001b[39m_select_forward_and_backward_functions(\n\u001b[0;32m   1324\u001b[0m     args,\n\u001b[0;32m   1325\u001b[0m     possible_gradient_type,\n\u001b[0;32m   1326\u001b[0m     executing_eagerly)\n\u001b[0;32m   1327\u001b[0m forward_function, args_with_tangents \u001b[38;5;241m=\u001b[39m forward_backward\u001b[38;5;241m.\u001b[39mforward()\n",
      "File \u001b[1;32m~\\anaconda3\\Lib\\site-packages\\tensorflow\\python\\eager\\polymorphic_function\\atomic_function.py:216\u001b[0m, in \u001b[0;36mAtomicFunction.call_preflattened\u001b[1;34m(self, args)\u001b[0m\n\u001b[0;32m    214\u001b[0m \u001b[38;5;28;01mdef\u001b[39;00m \u001b[38;5;21mcall_preflattened\u001b[39m(\u001b[38;5;28mself\u001b[39m, args: Sequence[core\u001b[38;5;241m.\u001b[39mTensor]) \u001b[38;5;241m-\u001b[39m\u001b[38;5;241m>\u001b[39m Any:\n\u001b[0;32m    215\u001b[0m \u001b[38;5;250m  \u001b[39m\u001b[38;5;124;03m\"\"\"Calls with flattened tensor inputs and returns the structured output.\"\"\"\u001b[39;00m\n\u001b[1;32m--> 216\u001b[0m   flat_outputs \u001b[38;5;241m=\u001b[39m \u001b[38;5;28mself\u001b[39m\u001b[38;5;241m.\u001b[39mcall_flat(\u001b[38;5;241m*\u001b[39margs)\n\u001b[0;32m    217\u001b[0m   \u001b[38;5;28;01mreturn\u001b[39;00m \u001b[38;5;28mself\u001b[39m\u001b[38;5;241m.\u001b[39mfunction_type\u001b[38;5;241m.\u001b[39mpack_output(flat_outputs)\n",
      "File \u001b[1;32m~\\anaconda3\\Lib\\site-packages\\tensorflow\\python\\eager\\polymorphic_function\\atomic_function.py:251\u001b[0m, in \u001b[0;36mAtomicFunction.call_flat\u001b[1;34m(self, *args)\u001b[0m\n\u001b[0;32m    249\u001b[0m \u001b[38;5;28;01mwith\u001b[39;00m record\u001b[38;5;241m.\u001b[39mstop_recording():\n\u001b[0;32m    250\u001b[0m   \u001b[38;5;28;01mif\u001b[39;00m \u001b[38;5;28mself\u001b[39m\u001b[38;5;241m.\u001b[39m_bound_context\u001b[38;5;241m.\u001b[39mexecuting_eagerly():\n\u001b[1;32m--> 251\u001b[0m     outputs \u001b[38;5;241m=\u001b[39m \u001b[38;5;28mself\u001b[39m\u001b[38;5;241m.\u001b[39m_bound_context\u001b[38;5;241m.\u001b[39mcall_function(\n\u001b[0;32m    252\u001b[0m         \u001b[38;5;28mself\u001b[39m\u001b[38;5;241m.\u001b[39mname,\n\u001b[0;32m    253\u001b[0m         \u001b[38;5;28mlist\u001b[39m(args),\n\u001b[0;32m    254\u001b[0m         \u001b[38;5;28mlen\u001b[39m(\u001b[38;5;28mself\u001b[39m\u001b[38;5;241m.\u001b[39mfunction_type\u001b[38;5;241m.\u001b[39mflat_outputs),\n\u001b[0;32m    255\u001b[0m     )\n\u001b[0;32m    256\u001b[0m   \u001b[38;5;28;01melse\u001b[39;00m:\n\u001b[0;32m    257\u001b[0m     outputs \u001b[38;5;241m=\u001b[39m make_call_op_in_graph(\n\u001b[0;32m    258\u001b[0m         \u001b[38;5;28mself\u001b[39m,\n\u001b[0;32m    259\u001b[0m         \u001b[38;5;28mlist\u001b[39m(args),\n\u001b[0;32m    260\u001b[0m         \u001b[38;5;28mself\u001b[39m\u001b[38;5;241m.\u001b[39m_bound_context\u001b[38;5;241m.\u001b[39mfunction_call_options\u001b[38;5;241m.\u001b[39mas_attrs(),\n\u001b[0;32m    261\u001b[0m     )\n",
      "File \u001b[1;32m~\\anaconda3\\Lib\\site-packages\\tensorflow\\python\\eager\\context.py:1683\u001b[0m, in \u001b[0;36mContext.call_function\u001b[1;34m(self, name, tensor_inputs, num_outputs)\u001b[0m\n\u001b[0;32m   1681\u001b[0m cancellation_context \u001b[38;5;241m=\u001b[39m cancellation\u001b[38;5;241m.\u001b[39mcontext()\n\u001b[0;32m   1682\u001b[0m \u001b[38;5;28;01mif\u001b[39;00m cancellation_context \u001b[38;5;129;01mis\u001b[39;00m \u001b[38;5;28;01mNone\u001b[39;00m:\n\u001b[1;32m-> 1683\u001b[0m   outputs \u001b[38;5;241m=\u001b[39m execute\u001b[38;5;241m.\u001b[39mexecute(\n\u001b[0;32m   1684\u001b[0m       name\u001b[38;5;241m.\u001b[39mdecode(\u001b[38;5;124m\"\u001b[39m\u001b[38;5;124mutf-8\u001b[39m\u001b[38;5;124m\"\u001b[39m),\n\u001b[0;32m   1685\u001b[0m       num_outputs\u001b[38;5;241m=\u001b[39mnum_outputs,\n\u001b[0;32m   1686\u001b[0m       inputs\u001b[38;5;241m=\u001b[39mtensor_inputs,\n\u001b[0;32m   1687\u001b[0m       attrs\u001b[38;5;241m=\u001b[39mattrs,\n\u001b[0;32m   1688\u001b[0m       ctx\u001b[38;5;241m=\u001b[39m\u001b[38;5;28mself\u001b[39m,\n\u001b[0;32m   1689\u001b[0m   )\n\u001b[0;32m   1690\u001b[0m \u001b[38;5;28;01melse\u001b[39;00m:\n\u001b[0;32m   1691\u001b[0m   outputs \u001b[38;5;241m=\u001b[39m execute\u001b[38;5;241m.\u001b[39mexecute_with_cancellation(\n\u001b[0;32m   1692\u001b[0m       name\u001b[38;5;241m.\u001b[39mdecode(\u001b[38;5;124m\"\u001b[39m\u001b[38;5;124mutf-8\u001b[39m\u001b[38;5;124m\"\u001b[39m),\n\u001b[0;32m   1693\u001b[0m       num_outputs\u001b[38;5;241m=\u001b[39mnum_outputs,\n\u001b[1;32m   (...)\u001b[0m\n\u001b[0;32m   1697\u001b[0m       cancellation_manager\u001b[38;5;241m=\u001b[39mcancellation_context,\n\u001b[0;32m   1698\u001b[0m   )\n",
      "File \u001b[1;32m~\\anaconda3\\Lib\\site-packages\\tensorflow\\python\\eager\\execute.py:53\u001b[0m, in \u001b[0;36mquick_execute\u001b[1;34m(op_name, num_outputs, inputs, attrs, ctx, name)\u001b[0m\n\u001b[0;32m     51\u001b[0m \u001b[38;5;28;01mtry\u001b[39;00m:\n\u001b[0;32m     52\u001b[0m   ctx\u001b[38;5;241m.\u001b[39mensure_initialized()\n\u001b[1;32m---> 53\u001b[0m   tensors \u001b[38;5;241m=\u001b[39m pywrap_tfe\u001b[38;5;241m.\u001b[39mTFE_Py_Execute(ctx\u001b[38;5;241m.\u001b[39m_handle, device_name, op_name,\n\u001b[0;32m     54\u001b[0m                                       inputs, attrs, num_outputs)\n\u001b[0;32m     55\u001b[0m \u001b[38;5;28;01mexcept\u001b[39;00m core\u001b[38;5;241m.\u001b[39m_NotOkStatusException \u001b[38;5;28;01mas\u001b[39;00m e:\n\u001b[0;32m     56\u001b[0m   \u001b[38;5;28;01mif\u001b[39;00m name \u001b[38;5;129;01mis\u001b[39;00m \u001b[38;5;129;01mnot\u001b[39;00m \u001b[38;5;28;01mNone\u001b[39;00m:\n",
      "\u001b[1;31mKeyboardInterrupt\u001b[0m: "
     ]
    }
   ],
   "source": [
    "# Configure the model\n",
    "early_stop = EarlyStopping(monitor=\"val_loss\", patience=5, restore_best_weights=True)\n",
    "lstm_model.compile(loss='categorical_crossentropy', optimizer='adam', metrics=['accuracy'])\n",
    "\n",
    "# Train the model\n",
    "history = lstm_model.fit(x_train, y_train,epochs=100,batch_size=32,validation_data=(x_test, y_test),callbacks=[early_stop])"
   ]
  },
  {
   "cell_type": "code",
   "execution_count": null,
   "id": "bcdff79f-029f-49ea-a561-5a41187daab3",
   "metadata": {},
   "outputs": [],
   "source": []
  },
  {
   "cell_type": "code",
   "execution_count": null,
   "id": "a64f423d-9eab-4b3e-b9fb-1643ff6cfa48",
   "metadata": {},
   "outputs": [],
   "source": []
  },
  {
   "cell_type": "code",
   "execution_count": null,
   "id": "d0ac0cf9-a7c7-40c3-b6d9-af5f1e1fbc9c",
   "metadata": {},
   "outputs": [],
   "source": []
  },
  {
   "cell_type": "code",
   "execution_count": null,
   "id": "e014d4ba-45b7-482d-a47b-c4862cfb7fcd",
   "metadata": {},
   "outputs": [],
   "source": []
  },
  {
   "cell_type": "code",
   "execution_count": null,
   "id": "15c853ae-c170-4287-9fb7-d71f24ec7da0",
   "metadata": {},
   "outputs": [],
   "source": []
  },
  {
   "cell_type": "code",
   "execution_count": null,
   "id": "2bba95d7-8ce7-4aed-b5b3-961523de8433",
   "metadata": {},
   "outputs": [],
   "source": []
  }
 ],
 "metadata": {
  "kernelspec": {
   "display_name": "Python 3 (ipykernel)",
   "language": "python",
   "name": "python3"
  },
  "language_info": {
   "codemirror_mode": {
    "name": "ipython",
    "version": 3
   },
   "file_extension": ".py",
   "mimetype": "text/x-python",
   "name": "python",
   "nbconvert_exporter": "python",
   "pygments_lexer": "ipython3",
   "version": "3.12.7"
  }
 },
 "nbformat": 4,
 "nbformat_minor": 5
}
